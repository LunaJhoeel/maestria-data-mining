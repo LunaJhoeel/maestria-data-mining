{
  "nbformat": 4,
  "nbformat_minor": 0,
  "metadata": {
    "colab": {
      "provenance": []
    },
    "kernelspec": {
      "name": "python3",
      "display_name": "Python 3"
    },
    "language_info": {
      "name": "python"
    },
    "widgets": {
      "application/vnd.jupyter.widget-state+json": {
        "ffc982bb94db4d1fb64a2634fd52dc5c": {
          "model_module": "@jupyter-widgets/controls",
          "model_name": "FloatProgressModel",
          "model_module_version": "1.5.0",
          "state": {
            "_dom_classes": [],
            "_model_module": "@jupyter-widgets/controls",
            "_model_module_version": "1.5.0",
            "_model_name": "FloatProgressModel",
            "_view_count": null,
            "_view_module": "@jupyter-widgets/controls",
            "_view_module_version": "1.5.0",
            "_view_name": "ProgressView",
            "bar_style": "",
            "description": "",
            "description_tooltip": null,
            "layout": "IPY_MODEL_fd7e406d18a9441f8a5b580cf40debf9",
            "max": 100,
            "min": 0,
            "orientation": "horizontal",
            "style": "IPY_MODEL_4991bf148bff4edb909224740cc51755",
            "value": 100
          }
        },
        "fd7e406d18a9441f8a5b580cf40debf9": {
          "model_module": "@jupyter-widgets/base",
          "model_name": "LayoutModel",
          "model_module_version": "1.2.0",
          "state": {
            "_model_module": "@jupyter-widgets/base",
            "_model_module_version": "1.2.0",
            "_model_name": "LayoutModel",
            "_view_count": null,
            "_view_module": "@jupyter-widgets/base",
            "_view_module_version": "1.2.0",
            "_view_name": "LayoutView",
            "align_content": null,
            "align_items": null,
            "align_self": null,
            "border": null,
            "bottom": null,
            "display": null,
            "flex": null,
            "flex_flow": null,
            "grid_area": null,
            "grid_auto_columns": null,
            "grid_auto_flow": null,
            "grid_auto_rows": null,
            "grid_column": null,
            "grid_gap": null,
            "grid_row": null,
            "grid_template_areas": null,
            "grid_template_columns": null,
            "grid_template_rows": null,
            "height": null,
            "justify_content": null,
            "justify_items": null,
            "left": null,
            "margin": null,
            "max_height": null,
            "max_width": null,
            "min_height": null,
            "min_width": null,
            "object_fit": null,
            "object_position": null,
            "order": null,
            "overflow": null,
            "overflow_x": null,
            "overflow_y": null,
            "padding": null,
            "right": null,
            "top": null,
            "visibility": null,
            "width": "auto"
          }
        },
        "4991bf148bff4edb909224740cc51755": {
          "model_module": "@jupyter-widgets/controls",
          "model_name": "ProgressStyleModel",
          "model_module_version": "1.5.0",
          "state": {
            "_model_module": "@jupyter-widgets/controls",
            "_model_module_version": "1.5.0",
            "_model_name": "ProgressStyleModel",
            "_view_count": null,
            "_view_module": "@jupyter-widgets/base",
            "_view_module_version": "1.2.0",
            "_view_name": "StyleView",
            "bar_color": "black",
            "description_width": ""
          }
        },
        "6c8ccf9c27cc4700b0279b2dea36d53f": {
          "model_module": "@jupyter-widgets/controls",
          "model_name": "FloatProgressModel",
          "model_module_version": "1.5.0",
          "state": {
            "_dom_classes": [],
            "_model_module": "@jupyter-widgets/controls",
            "_model_module_version": "1.5.0",
            "_model_name": "FloatProgressModel",
            "_view_count": null,
            "_view_module": "@jupyter-widgets/controls",
            "_view_module_version": "1.5.0",
            "_view_name": "ProgressView",
            "bar_style": "",
            "description": "",
            "description_tooltip": null,
            "layout": "IPY_MODEL_2e1fb51fe4324875b6d8a4d1333f1c7e",
            "max": 100,
            "min": 0,
            "orientation": "horizontal",
            "style": "IPY_MODEL_999fcd2222b3464384230cb044515626",
            "value": 100
          }
        },
        "2e1fb51fe4324875b6d8a4d1333f1c7e": {
          "model_module": "@jupyter-widgets/base",
          "model_name": "LayoutModel",
          "model_module_version": "1.2.0",
          "state": {
            "_model_module": "@jupyter-widgets/base",
            "_model_module_version": "1.2.0",
            "_model_name": "LayoutModel",
            "_view_count": null,
            "_view_module": "@jupyter-widgets/base",
            "_view_module_version": "1.2.0",
            "_view_name": "LayoutView",
            "align_content": null,
            "align_items": null,
            "align_self": null,
            "border": null,
            "bottom": null,
            "display": null,
            "flex": null,
            "flex_flow": null,
            "grid_area": null,
            "grid_auto_columns": null,
            "grid_auto_flow": null,
            "grid_auto_rows": null,
            "grid_column": null,
            "grid_gap": null,
            "grid_row": null,
            "grid_template_areas": null,
            "grid_template_columns": null,
            "grid_template_rows": null,
            "height": null,
            "justify_content": null,
            "justify_items": null,
            "left": null,
            "margin": null,
            "max_height": null,
            "max_width": null,
            "min_height": null,
            "min_width": null,
            "object_fit": null,
            "object_position": null,
            "order": null,
            "overflow": null,
            "overflow_x": null,
            "overflow_y": null,
            "padding": null,
            "right": null,
            "top": null,
            "visibility": null,
            "width": "auto"
          }
        },
        "999fcd2222b3464384230cb044515626": {
          "model_module": "@jupyter-widgets/controls",
          "model_name": "ProgressStyleModel",
          "model_module_version": "1.5.0",
          "state": {
            "_model_module": "@jupyter-widgets/controls",
            "_model_module_version": "1.5.0",
            "_model_name": "ProgressStyleModel",
            "_view_count": null,
            "_view_module": "@jupyter-widgets/base",
            "_view_module_version": "1.2.0",
            "_view_name": "StyleView",
            "bar_color": "black",
            "description_width": ""
          }
        },
        "4c83a82897b049b8bd2b1c42828c82c8": {
          "model_module": "@jupyter-widgets/controls",
          "model_name": "FloatProgressModel",
          "model_module_version": "1.5.0",
          "state": {
            "_dom_classes": [],
            "_model_module": "@jupyter-widgets/controls",
            "_model_module_version": "1.5.0",
            "_model_name": "FloatProgressModel",
            "_view_count": null,
            "_view_module": "@jupyter-widgets/controls",
            "_view_module_version": "1.5.0",
            "_view_name": "ProgressView",
            "bar_style": "",
            "description": "",
            "description_tooltip": null,
            "layout": "IPY_MODEL_f6e85614ce6442a7924373af05656269",
            "max": 100,
            "min": 0,
            "orientation": "horizontal",
            "style": "IPY_MODEL_ecdff11bcaa642df972f96c646d82f8f",
            "value": 100
          }
        },
        "f6e85614ce6442a7924373af05656269": {
          "model_module": "@jupyter-widgets/base",
          "model_name": "LayoutModel",
          "model_module_version": "1.2.0",
          "state": {
            "_model_module": "@jupyter-widgets/base",
            "_model_module_version": "1.2.0",
            "_model_name": "LayoutModel",
            "_view_count": null,
            "_view_module": "@jupyter-widgets/base",
            "_view_module_version": "1.2.0",
            "_view_name": "LayoutView",
            "align_content": null,
            "align_items": null,
            "align_self": null,
            "border": null,
            "bottom": null,
            "display": null,
            "flex": null,
            "flex_flow": null,
            "grid_area": null,
            "grid_auto_columns": null,
            "grid_auto_flow": null,
            "grid_auto_rows": null,
            "grid_column": null,
            "grid_gap": null,
            "grid_row": null,
            "grid_template_areas": null,
            "grid_template_columns": null,
            "grid_template_rows": null,
            "height": null,
            "justify_content": null,
            "justify_items": null,
            "left": null,
            "margin": null,
            "max_height": null,
            "max_width": null,
            "min_height": null,
            "min_width": null,
            "object_fit": null,
            "object_position": null,
            "order": null,
            "overflow": null,
            "overflow_x": null,
            "overflow_y": null,
            "padding": null,
            "right": null,
            "top": null,
            "visibility": null,
            "width": "auto"
          }
        },
        "ecdff11bcaa642df972f96c646d82f8f": {
          "model_module": "@jupyter-widgets/controls",
          "model_name": "ProgressStyleModel",
          "model_module_version": "1.5.0",
          "state": {
            "_model_module": "@jupyter-widgets/controls",
            "_model_module_version": "1.5.0",
            "_model_name": "ProgressStyleModel",
            "_view_count": null,
            "_view_module": "@jupyter-widgets/base",
            "_view_module_version": "1.2.0",
            "_view_name": "StyleView",
            "bar_color": "black",
            "description_width": ""
          }
        },
        "51c3ace55a124f4faede07faef4cc2f4": {
          "model_module": "@jupyter-widgets/controls",
          "model_name": "FloatProgressModel",
          "model_module_version": "1.5.0",
          "state": {
            "_dom_classes": [],
            "_model_module": "@jupyter-widgets/controls",
            "_model_module_version": "1.5.0",
            "_model_name": "FloatProgressModel",
            "_view_count": null,
            "_view_module": "@jupyter-widgets/controls",
            "_view_module_version": "1.5.0",
            "_view_name": "ProgressView",
            "bar_style": "",
            "description": "",
            "description_tooltip": null,
            "layout": "IPY_MODEL_383a4c257b0a4c11b00ef10f0561b10f",
            "max": 100,
            "min": 0,
            "orientation": "horizontal",
            "style": "IPY_MODEL_156211ed4ee543f4b9fc299449067d58",
            "value": 100
          }
        },
        "383a4c257b0a4c11b00ef10f0561b10f": {
          "model_module": "@jupyter-widgets/base",
          "model_name": "LayoutModel",
          "model_module_version": "1.2.0",
          "state": {
            "_model_module": "@jupyter-widgets/base",
            "_model_module_version": "1.2.0",
            "_model_name": "LayoutModel",
            "_view_count": null,
            "_view_module": "@jupyter-widgets/base",
            "_view_module_version": "1.2.0",
            "_view_name": "LayoutView",
            "align_content": null,
            "align_items": null,
            "align_self": null,
            "border": null,
            "bottom": null,
            "display": null,
            "flex": null,
            "flex_flow": null,
            "grid_area": null,
            "grid_auto_columns": null,
            "grid_auto_flow": null,
            "grid_auto_rows": null,
            "grid_column": null,
            "grid_gap": null,
            "grid_row": null,
            "grid_template_areas": null,
            "grid_template_columns": null,
            "grid_template_rows": null,
            "height": null,
            "justify_content": null,
            "justify_items": null,
            "left": null,
            "margin": null,
            "max_height": null,
            "max_width": null,
            "min_height": null,
            "min_width": null,
            "object_fit": null,
            "object_position": null,
            "order": null,
            "overflow": null,
            "overflow_x": null,
            "overflow_y": null,
            "padding": null,
            "right": null,
            "top": null,
            "visibility": null,
            "width": "auto"
          }
        },
        "156211ed4ee543f4b9fc299449067d58": {
          "model_module": "@jupyter-widgets/controls",
          "model_name": "ProgressStyleModel",
          "model_module_version": "1.5.0",
          "state": {
            "_model_module": "@jupyter-widgets/controls",
            "_model_module_version": "1.5.0",
            "_model_name": "ProgressStyleModel",
            "_view_count": null,
            "_view_module": "@jupyter-widgets/base",
            "_view_module_version": "1.2.0",
            "_view_name": "StyleView",
            "bar_color": "black",
            "description_width": ""
          }
        },
        "54c3eba3a57c4deda3804c4a6dc5b418": {
          "model_module": "@jupyter-widgets/controls",
          "model_name": "FloatProgressModel",
          "model_module_version": "1.5.0",
          "state": {
            "_dom_classes": [],
            "_model_module": "@jupyter-widgets/controls",
            "_model_module_version": "1.5.0",
            "_model_name": "FloatProgressModel",
            "_view_count": null,
            "_view_module": "@jupyter-widgets/controls",
            "_view_module_version": "1.5.0",
            "_view_name": "ProgressView",
            "bar_style": "",
            "description": "",
            "description_tooltip": null,
            "layout": "IPY_MODEL_8d39ca1ec9a145ceb53a54822d45b045",
            "max": 100,
            "min": 0,
            "orientation": "horizontal",
            "style": "IPY_MODEL_fed9ffee007946f08214ff0695bfd00a",
            "value": 100
          }
        },
        "8d39ca1ec9a145ceb53a54822d45b045": {
          "model_module": "@jupyter-widgets/base",
          "model_name": "LayoutModel",
          "model_module_version": "1.2.0",
          "state": {
            "_model_module": "@jupyter-widgets/base",
            "_model_module_version": "1.2.0",
            "_model_name": "LayoutModel",
            "_view_count": null,
            "_view_module": "@jupyter-widgets/base",
            "_view_module_version": "1.2.0",
            "_view_name": "LayoutView",
            "align_content": null,
            "align_items": null,
            "align_self": null,
            "border": null,
            "bottom": null,
            "display": null,
            "flex": null,
            "flex_flow": null,
            "grid_area": null,
            "grid_auto_columns": null,
            "grid_auto_flow": null,
            "grid_auto_rows": null,
            "grid_column": null,
            "grid_gap": null,
            "grid_row": null,
            "grid_template_areas": null,
            "grid_template_columns": null,
            "grid_template_rows": null,
            "height": null,
            "justify_content": null,
            "justify_items": null,
            "left": null,
            "margin": null,
            "max_height": null,
            "max_width": null,
            "min_height": null,
            "min_width": null,
            "object_fit": null,
            "object_position": null,
            "order": null,
            "overflow": null,
            "overflow_x": null,
            "overflow_y": null,
            "padding": null,
            "right": null,
            "top": null,
            "visibility": null,
            "width": "auto"
          }
        },
        "fed9ffee007946f08214ff0695bfd00a": {
          "model_module": "@jupyter-widgets/controls",
          "model_name": "ProgressStyleModel",
          "model_module_version": "1.5.0",
          "state": {
            "_model_module": "@jupyter-widgets/controls",
            "_model_module_version": "1.5.0",
            "_model_name": "ProgressStyleModel",
            "_view_count": null,
            "_view_module": "@jupyter-widgets/base",
            "_view_module_version": "1.2.0",
            "_view_name": "StyleView",
            "bar_color": "black",
            "description_width": ""
          }
        },
        "522bdfd0c2304ca88505511c36cd9984": {
          "model_module": "@jupyter-widgets/controls",
          "model_name": "FloatProgressModel",
          "model_module_version": "1.5.0",
          "state": {
            "_dom_classes": [],
            "_model_module": "@jupyter-widgets/controls",
            "_model_module_version": "1.5.0",
            "_model_name": "FloatProgressModel",
            "_view_count": null,
            "_view_module": "@jupyter-widgets/controls",
            "_view_module_version": "1.5.0",
            "_view_name": "ProgressView",
            "bar_style": "",
            "description": "",
            "description_tooltip": null,
            "layout": "IPY_MODEL_98e2c726f86948a3a6016de400a0495f",
            "max": 100,
            "min": 0,
            "orientation": "horizontal",
            "style": "IPY_MODEL_2445f2bd5394466db3fc97179dc23f64",
            "value": 100
          }
        },
        "98e2c726f86948a3a6016de400a0495f": {
          "model_module": "@jupyter-widgets/base",
          "model_name": "LayoutModel",
          "model_module_version": "1.2.0",
          "state": {
            "_model_module": "@jupyter-widgets/base",
            "_model_module_version": "1.2.0",
            "_model_name": "LayoutModel",
            "_view_count": null,
            "_view_module": "@jupyter-widgets/base",
            "_view_module_version": "1.2.0",
            "_view_name": "LayoutView",
            "align_content": null,
            "align_items": null,
            "align_self": null,
            "border": null,
            "bottom": null,
            "display": null,
            "flex": null,
            "flex_flow": null,
            "grid_area": null,
            "grid_auto_columns": null,
            "grid_auto_flow": null,
            "grid_auto_rows": null,
            "grid_column": null,
            "grid_gap": null,
            "grid_row": null,
            "grid_template_areas": null,
            "grid_template_columns": null,
            "grid_template_rows": null,
            "height": null,
            "justify_content": null,
            "justify_items": null,
            "left": null,
            "margin": null,
            "max_height": null,
            "max_width": null,
            "min_height": null,
            "min_width": null,
            "object_fit": null,
            "object_position": null,
            "order": null,
            "overflow": null,
            "overflow_x": null,
            "overflow_y": null,
            "padding": null,
            "right": null,
            "top": null,
            "visibility": null,
            "width": "auto"
          }
        },
        "2445f2bd5394466db3fc97179dc23f64": {
          "model_module": "@jupyter-widgets/controls",
          "model_name": "ProgressStyleModel",
          "model_module_version": "1.5.0",
          "state": {
            "_model_module": "@jupyter-widgets/controls",
            "_model_module_version": "1.5.0",
            "_model_name": "ProgressStyleModel",
            "_view_count": null,
            "_view_module": "@jupyter-widgets/base",
            "_view_module_version": "1.2.0",
            "_view_name": "StyleView",
            "bar_color": "black",
            "description_width": ""
          }
        },
        "b0251c178452431abe3951ec96b7b162": {
          "model_module": "@jupyter-widgets/controls",
          "model_name": "FloatProgressModel",
          "model_module_version": "1.5.0",
          "state": {
            "_dom_classes": [],
            "_model_module": "@jupyter-widgets/controls",
            "_model_module_version": "1.5.0",
            "_model_name": "FloatProgressModel",
            "_view_count": null,
            "_view_module": "@jupyter-widgets/controls",
            "_view_module_version": "1.5.0",
            "_view_name": "ProgressView",
            "bar_style": "",
            "description": "",
            "description_tooltip": null,
            "layout": "IPY_MODEL_3e39cd1c1d6b4454932631256e3fb275",
            "max": 100,
            "min": 0,
            "orientation": "horizontal",
            "style": "IPY_MODEL_97e1236ac8d94b918950b0574b639959",
            "value": 100
          }
        },
        "3e39cd1c1d6b4454932631256e3fb275": {
          "model_module": "@jupyter-widgets/base",
          "model_name": "LayoutModel",
          "model_module_version": "1.2.0",
          "state": {
            "_model_module": "@jupyter-widgets/base",
            "_model_module_version": "1.2.0",
            "_model_name": "LayoutModel",
            "_view_count": null,
            "_view_module": "@jupyter-widgets/base",
            "_view_module_version": "1.2.0",
            "_view_name": "LayoutView",
            "align_content": null,
            "align_items": null,
            "align_self": null,
            "border": null,
            "bottom": null,
            "display": null,
            "flex": null,
            "flex_flow": null,
            "grid_area": null,
            "grid_auto_columns": null,
            "grid_auto_flow": null,
            "grid_auto_rows": null,
            "grid_column": null,
            "grid_gap": null,
            "grid_row": null,
            "grid_template_areas": null,
            "grid_template_columns": null,
            "grid_template_rows": null,
            "height": null,
            "justify_content": null,
            "justify_items": null,
            "left": null,
            "margin": null,
            "max_height": null,
            "max_width": null,
            "min_height": null,
            "min_width": null,
            "object_fit": null,
            "object_position": null,
            "order": null,
            "overflow": null,
            "overflow_x": null,
            "overflow_y": null,
            "padding": null,
            "right": null,
            "top": null,
            "visibility": null,
            "width": "auto"
          }
        },
        "97e1236ac8d94b918950b0574b639959": {
          "model_module": "@jupyter-widgets/controls",
          "model_name": "ProgressStyleModel",
          "model_module_version": "1.5.0",
          "state": {
            "_model_module": "@jupyter-widgets/controls",
            "_model_module_version": "1.5.0",
            "_model_name": "ProgressStyleModel",
            "_view_count": null,
            "_view_module": "@jupyter-widgets/base",
            "_view_module_version": "1.2.0",
            "_view_name": "StyleView",
            "bar_color": "black",
            "description_width": ""
          }
        }
      }
    }
  },
  "cells": [
    {
      "cell_type": "code",
      "source": [
        "import pandas as pd\n",
        "import numpy as np\n",
        "import matplotlib.pyplot as plt\n",
        "import seaborn as sns\n",
        "import duckdb\n",
        "import gc"
      ],
      "metadata": {
        "id": "pp91pV-o4npt"
      },
      "execution_count": null,
      "outputs": []
    },
    {
      "cell_type": "code",
      "source": [
        "\n",
        "#!pip install duckdb -q\n",
        "\n",
        "import duckdb\n",
        "import pandas as pd\n",
        "import gc\n",
        "\n",
        "\n",
        "con = duckdb.connect()\n",
        "\n",
        "\n",
        "d = '/content/drive/MyDrive/datos123/train.csv'\n",
        "\n",
        "print(\" Exploración del data set\")\n",
        "print(\"=\"*60)\n",
        "\n",
        "# 2. VER LAS PRIMERAS FILAS\n",
        "print(\" 5 FILAS:\")\n",
        "print(\"=\"*60)\n",
        "head = con.execute(f\"\"\"\n",
        "    SELECT *\n",
        "    FROM '{d}'\n",
        "    LIMIT 5\n",
        "\"\"\").df()\n",
        "print(head)\n",
        "\n",
        "# 3. CONTAR TOTAL DE REGISTROS\n",
        "print(\"\\nINFORMACIÓN GENERAL:\")\n",
        "print(\"=\"*60)\n",
        "total_rows = con.execute(f\"\"\"\n",
        "    SELECT COUNT(*) as total\n",
        "    FROM '{d}'\n",
        "\"\"\").fetchone()[0]\n",
        "print(f\"Total de registros: {total_rows:,}\")\n",
        "\n",
        "# 4. DISTRIBUCIÓN DE LA VARIABLE OBJETIVO\n",
        "print(\"\\nDISTRIBUCIÓN DE is_attributed:\")\n",
        "print(\"=\"*60)\n",
        "distribution = con.execute(f\"\"\"\n",
        "    SELECT\n",
        "        is_attributed,\n",
        "        COUNT(*) as count,\n",
        "        ROUND(COUNT(*) * 100.0 / {total_rows}, 4) as percentage\n",
        "    FROM '{d}'\n",
        "    GROUP BY is_attributed\n",
        "    ORDER BY is_attributed\n",
        "\"\"\").df()\n",
        "print(distribution)\n",
        "\n",
        "positivos = int(distribution[distribution['is_attributed']==1]['count'].iloc[0])\n",
        "negativos = int(distribution[distribution['is_attributed']==0]['count'].iloc[0])\n",
        "\n",
        "print(f\"\\n Positivos (is_attributed=1): {positivos:,}\")\n",
        "print(f\" Negativos (is_attributed=0): {negativos:,}\")\n",
        "print(f\"Desbalance: 1 positivo cada {negativos//positivos:,} negativos\")\n",
        "\n",
        "# 5. DISTRIBUCIÓN POR OTRAS COLUMNAS CLAVE\n",
        "print(\"\\nTOP 10 APPS MÁS FRECUENTES:\")\n",
        "print(\"=\"*60)\n",
        "top_apps = con.execute(f\"\"\"\n",
        "    SELECT\n",
        "        app,\n",
        "        COUNT(*) as clicks,\n",
        "        SUM(is_attributed) as conversiones,\n",
        "        ROUND(SUM(is_attributed) * 100.0 / COUNT(*), 2) as conversion_rate\n",
        "    FROM '{d}'\n",
        "    GROUP BY app\n",
        "    ORDER BY clicks DESC\n",
        "    LIMIT 10\n",
        "\"\"\").df()\n",
        "print(top_apps)\n",
        "\n",
        "print(\"\\n TOP 10 CHANNELS MÁS FRECUENTES:\")\n",
        "print(\"=\"*60)\n",
        "top_channels = con.execute(f\"\"\"\n",
        "    SELECT\n",
        "        channel,\n",
        "        COUNT(*) as clicks,\n",
        "        SUM(is_attributed) as conversiones,\n",
        "        ROUND(SUM(is_attributed) * 100.0 / COUNT(*), 2) as conversion_rate\n",
        "    FROM '{d}'\n",
        "    GROUP BY channel\n",
        "    ORDER BY clicks DESC\n",
        "    LIMIT 10\n",
        "\"\"\").df()\n",
        "print(top_channels)\n",
        "\n",
        "# 6. RANGO DE FECHAS\n",
        "print(\"\\n RANGO TEMPORAL:\")\n",
        "print(\"=\"*60)\n",
        "time_range = con.execute(f\"\"\"\n",
        "    SELECT\n",
        "        MIN(click_time) as fecha_inicio,\n",
        "        MAX(click_time) as fecha_fin\n",
        "    FROM '{d}'\n",
        "\"\"\").df()\n",
        "print(time_range)\n",
        "\n",
        "print(\"\\n\" + \"=\"*60)\n",
        "print(\" EXPLORACIÓN COMPLETADA\")\n",
        "print(\"=\"*60)\n"
      ],
      "metadata": {
        "colab": {
          "base_uri": "https://localhost:8080/",
          "height": 1000,
          "referenced_widgets": [
            "4c83a82897b049b8bd2b1c42828c82c8",
            "f6e85614ce6442a7924373af05656269",
            "ecdff11bcaa642df972f96c646d82f8f",
            "51c3ace55a124f4faede07faef4cc2f4",
            "383a4c257b0a4c11b00ef10f0561b10f",
            "156211ed4ee543f4b9fc299449067d58",
            "54c3eba3a57c4deda3804c4a6dc5b418",
            "8d39ca1ec9a145ceb53a54822d45b045",
            "fed9ffee007946f08214ff0695bfd00a",
            "522bdfd0c2304ca88505511c36cd9984",
            "98e2c726f86948a3a6016de400a0495f",
            "2445f2bd5394466db3fc97179dc23f64",
            "b0251c178452431abe3951ec96b7b162",
            "3e39cd1c1d6b4454932631256e3fb275",
            "97e1236ac8d94b918950b0574b639959"
          ]
        },
        "id": "kibKkbCJ4qXj",
        "outputId": "1caad85a-755d-45e7-ca0a-76a52a2d1a23"
      },
      "execution_count": null,
      "outputs": [
        {
          "output_type": "stream",
          "name": "stdout",
          "text": [
            " Exploración del data set\n",
            "============================================================\n",
            " 5 FILAS:\n",
            "============================================================\n",
            "       ip  app  device  os  channel          click_time attributed_time  \\\n",
            "0   83230    3       1  13      379 2017-11-06 14:32:21             NaT   \n",
            "1   17357    3       1  19      379 2017-11-06 14:33:34             NaT   \n",
            "2   35810    3       1  13      379 2017-11-06 14:34:12             NaT   \n",
            "3   45745   14       1  13      478 2017-11-06 14:34:52             NaT   \n",
            "4  161007    3       1  13      379 2017-11-06 14:35:08             NaT   \n",
            "\n",
            "   is_attributed  \n",
            "0              0  \n",
            "1              0  \n",
            "2              0  \n",
            "3              0  \n",
            "4              0  \n",
            "\n",
            "INFORMACIÓN GENERAL:\n",
            "============================================================\n"
          ]
        },
        {
          "output_type": "display_data",
          "data": {
            "text/plain": [
              "FloatProgress(value=0.0, layout=Layout(width='auto'), style=ProgressStyle(bar_color='black'))"
            ],
            "application/vnd.jupyter.widget-view+json": {
              "version_major": 2,
              "version_minor": 0,
              "model_id": "4c83a82897b049b8bd2b1c42828c82c8"
            }
          },
          "metadata": {}
        },
        {
          "output_type": "stream",
          "name": "stdout",
          "text": [
            "Total de registros: 184,903,890\n",
            "\n",
            "DISTRIBUCIÓN DE is_attributed:\n",
            "============================================================\n"
          ]
        },
        {
          "output_type": "display_data",
          "data": {
            "text/plain": [
              "FloatProgress(value=0.0, layout=Layout(width='auto'), style=ProgressStyle(bar_color='black'))"
            ],
            "application/vnd.jupyter.widget-view+json": {
              "version_major": 2,
              "version_minor": 0,
              "model_id": "51c3ace55a124f4faede07faef4cc2f4"
            }
          },
          "metadata": {}
        },
        {
          "output_type": "stream",
          "name": "stdout",
          "text": [
            "   is_attributed      count  percentage\n",
            "0              0  184447044     99.7529\n",
            "1              1     456846      0.2471\n",
            "\n",
            " Positivos (is_attributed=1): 456,846\n",
            " Negativos (is_attributed=0): 184,447,044\n",
            "Desbalance: 1 positivo cada 403 negativos\n",
            "\n",
            "TOP 10 APPS MÁS FRECUENTES:\n",
            "============================================================\n"
          ]
        },
        {
          "output_type": "display_data",
          "data": {
            "text/plain": [
              "FloatProgress(value=0.0, layout=Layout(width='auto'), style=ProgressStyle(bar_color='black'))"
            ],
            "application/vnd.jupyter.widget-view+json": {
              "version_major": 2,
              "version_minor": 0,
              "model_id": "54c3eba3a57c4deda3804c4a6dc5b418"
            }
          },
          "metadata": {}
        },
        {
          "output_type": "stream",
          "name": "stdout",
          "text": [
            "   app    clicks  conversiones  conversion_rate\n",
            "0    3  33911780       10261.0             0.03\n",
            "1   12  24179003        2640.0             0.01\n",
            "2    2  21642136        5661.0             0.03\n",
            "3    9  16458268       18823.0             0.11\n",
            "4   15  15958970        3418.0             0.02\n",
            "5   18  15756587        7919.0             0.05\n",
            "6   14  10027169        2505.0             0.02\n",
            "7    1   5796274        1230.0             0.02\n",
            "8   13   4329409         721.0             0.02\n",
            "9    8   3731948        6875.0             0.18\n",
            "\n",
            " TOP 10 CHANNELS MÁS FRECUENTES:\n",
            "============================================================\n"
          ]
        },
        {
          "output_type": "display_data",
          "data": {
            "text/plain": [
              "FloatProgress(value=0.0, layout=Layout(width='auto'), style=ProgressStyle(bar_color='black'))"
            ],
            "application/vnd.jupyter.widget-view+json": {
              "version_major": 2,
              "version_minor": 0,
              "model_id": "522bdfd0c2304ca88505511c36cd9984"
            }
          },
          "metadata": {}
        },
        {
          "output_type": "stream",
          "name": "stdout",
          "text": [
            "   channel    clicks  conversiones  conversion_rate\n",
            "0      280  15065927        4075.0             0.03\n",
            "1      245   8873025         829.0             0.01\n",
            "2      107   8457471        4262.0             0.05\n",
            "3      477   7188340        1212.0             0.02\n",
            "4      134   5924250        3524.0             0.06\n",
            "5      259   5787004        2558.0             0.04\n",
            "6      153   5537977         765.0             0.01\n",
            "7      265   5446388         732.0             0.01\n",
            "8      178   5271408         627.0             0.01\n",
            "9      121   4692438        2055.0             0.04\n",
            "\n",
            " RANGO TEMPORAL:\n",
            "============================================================\n"
          ]
        },
        {
          "output_type": "display_data",
          "data": {
            "text/plain": [
              "FloatProgress(value=0.0, layout=Layout(width='auto'), style=ProgressStyle(bar_color='black'))"
            ],
            "application/vnd.jupyter.widget-view+json": {
              "version_major": 2,
              "version_minor": 0,
              "model_id": "b0251c178452431abe3951ec96b7b162"
            }
          },
          "metadata": {}
        },
        {
          "output_type": "stream",
          "name": "stdout",
          "text": [
            "         fecha_inicio           fecha_fin\n",
            "0 2017-11-06 14:32:21 2017-11-09 16:00:00\n",
            "\n",
            "============================================================\n",
            " EXPLORACIÓN COMPLETADA\n",
            "============================================================\n"
          ]
        }
      ]
    },
    {
      "cell_type": "markdown",
      "source": [
        "| Ítem | Resultado / Valor | Interpretación |\n",
        "|------|-------------------|--------------------|\n",
        "| **Registros totales** | 184,903,890 | Total data ser |\n",
        "| **Positivos (conversiones)** | 456,846 (0.247%) | Muy pocos casos donde sí hubo descarga |\n",
        "| **Negativos (no convierten)** | 184,447,044 (99.75%) | Casi todos los clicks no terminan en nada |\n",
        "| **Desbalance** | 1 : 403 | Por cada descarga hay 403 clicks inútiles |\n",
        "| **Inicio del registro** | 06/11/2017 14:32 | inicio |\n",
        "| **Fin del registro** | 09/11/2017 16:00 | tiempo de recolección |\n",
        "| **Duración total** | ~3 días | Tiempo de todo el data set |\n",
        "| **Tráfico diario** | ~62 millones/día | trafico de los datos  |\n",
        "| **Bots / clicks falsos** | Probable | Ese volumen suele venir de robots o granjas de clicks |\n",
        "| **Relevancia del tiempo** | Hora/día importa | La hora puede ayudar a encontrar patrones raros |\n",
        "\n",
        "\n"
      ],
      "metadata": {
        "id": "XjcaXmv__00n"
      }
    },
    {
      "cell_type": "code",
      "source": [
        "RATIO = 16\n",
        "positivos = 456846\n",
        "negativos = positivos * RATIO\n",
        "total = positivos + negativos\n",
        "\n",
        "print(f\"Ratio: 1:{RATIO}\")\n",
        "print(f\"Positivos: {positivos:,}\")\n",
        "print(f\"Negativos: {negativos:,}\")\n",
        "print(f\"TOTAL: {total:,}\")\n",
        "print(\"Creando muestra...\")\n",
        "\n",
        "sample = con.execute(f\"\"\"\n",
        "    SELECT * FROM (\n",
        "        SELECT * FROM '{d}' WHERE is_attributed = 1\n",
        "        UNION ALL\n",
        "        SELECT * FROM '{d}'\n",
        "        WHERE is_attributed = 0\n",
        "        USING SAMPLE reservoir({negativos} ROWS)\n",
        "    )\n",
        "    ORDER BY RANDOM()\n",
        "\"\"\").df()\n",
        "\n",
        "print(f\"Datos: {len(sample):,} registros\")\n",
        "print(f\"Positivos: {(sample['is_attributed']==1).sum():,}\")\n",
        "print(f\"Negativos: {(sample['is_attributed']==0).sum():,}\")\n",
        "\n",
        "sample.to_parquet('/content/drive/MyDrive/datos123/datos8M.parquet', index=False)\n"
      ],
      "metadata": {
        "colab": {
          "base_uri": "https://localhost:8080/",
          "height": 192,
          "referenced_widgets": [
            "ffc982bb94db4d1fb64a2634fd52dc5c",
            "fd7e406d18a9441f8a5b580cf40debf9",
            "4991bf148bff4edb909224740cc51755"
          ]
        },
        "id": "m7dEyBkOU2xj",
        "outputId": "52b807b6-4292-45d8-eda2-a5ce73bb043a"
      },
      "execution_count": null,
      "outputs": [
        {
          "output_type": "stream",
          "name": "stdout",
          "text": [
            "Ratio: 1:16\n",
            "Positivos: 456,846\n",
            "Negativos: 7,309,536\n",
            "TOTAL: 7,766,382\n",
            "Creando muestra...\n"
          ]
        },
        {
          "output_type": "display_data",
          "data": {
            "text/plain": [
              "FloatProgress(value=0.0, layout=Layout(width='auto'), style=ProgressStyle(bar_color='black'))"
            ],
            "application/vnd.jupyter.widget-view+json": {
              "version_major": 2,
              "version_minor": 0,
              "model_id": "ffc982bb94db4d1fb64a2634fd52dc5c"
            }
          },
          "metadata": {}
        },
        {
          "output_type": "stream",
          "name": "stdout",
          "text": [
            "Datos: 7,751,745 registros\n",
            "Positivos: 456,846\n",
            "Negativos: 7,294,899\n"
          ]
        }
      ]
    },
    {
      "cell_type": "markdown",
      "source": [
        "| Parte | Qué hace | Explicación|\n",
        "|-------|----------|-------------------|\n",
        "| Definición del ratio | `RATIO = 16`<br>`negativos = positivos * 16` | Se decide tomar 16 negativos por cada 1 positivo para equilibrar el dataset. |\n",
        "| Cálculo previo | Positivos = 456,846<br>Negativos = 7,309,536<br>Total = 7,766,382 | Es un cálculo teórico para saber cuántos negativos hay que muestrear. |\n",
        "| Selección de datos (SQL) | `SELECT * FROM d WHERE is_attributed = 1` | Se seleccionan **todos** los registros positivos completos. |\n",
        "| Muestreo de negativos | `SELECT ... USING SAMPLE reservoir(negativos ROWS)` | Se toma solo una **muestra** de negativos usando muestreo tipo *reservoir* hasta aproximarse al número deseado. |\n",
        "| Unión de ambos | `UNION ALL` | Junta los positivos completos + la muestra de negativos, sin eliminarlos. |\n",
        "| Mezcla aleatoria | `ORDER BY RANDOM()` | Desordena todo para que positivos y negativos queden mezclados y no en bloques. |\n",
        "| Resultado final | Datos finales = 7,751,745<br>Positivos = 456,846<br>Negativos = 7,294,899 | El muestreo no da exactamente los 7,309,536 negativos teóricos, pero queda muy cercano al ratio 1:16. |\n",
        "| Conclusión | Dataset balanceado por submuestreo de negativos | Se reduce el desbalance manteniendo todos los positivos para un mejor entrenamiento. |\n"
      ],
      "metadata": {
        "id": "0iTkkEbObg_g"
      }
    },
    {
      "cell_type": "code",
      "source": [
        "muestra = pd.read_parquet(\"/content/drive/MyDrive/datos123/datos8M.parquet\")\n"
      ],
      "metadata": {
        "id": "7kmLKc7bbhoH"
      },
      "execution_count": null,
      "outputs": []
    },
    {
      "cell_type": "code",
      "source": [
        "print(\"Verificando muestra actual...\")\n",
        "print(f\"\\nTotal registros: {len(muestra):,}\")\n",
        "print(f\"\\nDistribucion:\")\n",
        "print(muestra['is_attributed'].value_counts())\n",
        "print(f\"\\nBalance: {muestra['is_attributed'].mean()*100:.2f}% positivos\")\n",
        "\n",
        "print(\"\\nProporciones por APP (top 5):\")\n",
        "print(muestra.groupby('app')['is_attributed'].agg(['count', 'sum', 'mean']).sort_values('count', ascending=False).head())\n",
        "\n",
        "print(\"\\nProporciones por CHANNEL (top 5):\")\n",
        "print(muestra.groupby('channel')['is_attributed'].agg(['count', 'sum', 'mean']).sort_values('count', ascending=False).head())"
      ],
      "metadata": {
        "colab": {
          "base_uri": "https://localhost:8080/"
        },
        "id": "DljXgCs5lEUr",
        "outputId": "a64a5bc6-b3fd-469c-a212-0d1fdaefdb42"
      },
      "execution_count": null,
      "outputs": [
        {
          "output_type": "stream",
          "name": "stdout",
          "text": [
            "Verificando muestra actual...\n",
            "\n",
            "Total registros: 7,751,745\n",
            "\n",
            "Distribucion:\n",
            "is_attributed\n",
            "0    7294899\n",
            "1     456846\n",
            "Name: count, dtype: int64\n",
            "\n",
            "Balance: 5.89% positivos\n",
            "\n",
            "Proporciones por APP (top 5):\n",
            "      count    sum      mean\n",
            "app                         \n",
            "12   978261   2640  0.002699\n",
            "3    927844  10261  0.011059\n",
            "2    919633   5661  0.006156\n",
            "15   854299   3418  0.004001\n",
            "9    695975  18823  0.027046\n",
            "\n",
            "Proporciones por CHANNEL (top 5):\n",
            "          count   sum      mean\n",
            "channel                        \n",
            "245      618129   829  0.001341\n",
            "134      398889  3524  0.008835\n",
            "259      346559  2558  0.007381\n",
            "477      328748  1212  0.003687\n",
            "121      298296  2055  0.006889\n"
          ]
        }
      ]
    },
    {
      "cell_type": "code",
      "source": [
        "import duckdb\n",
        "\n",
        "con = duckdb.connect()\n",
        "\n",
        "# Registrar tu DataFrame 'muestra' en DuckDB\n",
        "con.register('muestra_temp', muestra)\n",
        "\n",
        "RATIO = 16\n",
        "positivos_total = 456846\n",
        "negativos_objetivo = positivos_total * RATIO\n",
        "\n",
        "print(\"Estratificando la muestra actual...\")\n",
        "\n",
        "muestra_estratificada = con.execute(f\"\"\"\n",
        "    WITH todos_positivos AS (\n",
        "        SELECT * FROM muestra_temp WHERE is_attributed = 1\n",
        "    ),\n",
        "    negativos_por_estrato AS (\n",
        "        SELECT\n",
        "            *,\n",
        "            ROW_NUMBER() OVER (\n",
        "                PARTITION BY app, channel\n",
        "                ORDER BY RANDOM()\n",
        "            ) as rn,\n",
        "            FLOOR(\n",
        "                COUNT(*) OVER (PARTITION BY app, channel)\n",
        "                * {negativos_objetivo / 7294899.0}\n",
        "            ) as sample_size\n",
        "        FROM muestra_temp\n",
        "        WHERE is_attributed = 0\n",
        "    ),\n",
        "    negativos_estratificados AS (\n",
        "        SELECT * EXCLUDE(rn, sample_size)\n",
        "        FROM negativos_por_estrato\n",
        "        WHERE rn <= GREATEST(sample_size, 1)\n",
        "    ),\n",
        "    union_final AS (\n",
        "        SELECT * FROM todos_positivos\n",
        "        UNION ALL\n",
        "        SELECT * FROM negativos_estratificados\n",
        "    )\n",
        "    SELECT * FROM union_final\n",
        "    ORDER BY RANDOM()\n",
        "\"\"\").df()\n",
        "\n",
        "print(f\"\\nMuestra estratificada: {len(muestra_estratificada):,}\")\n",
        "print(f\"Positivos: {(muestra_estratificada['is_attributed']==1).sum():,}\")\n",
        "print(f\"Negativos: {(muestra_estratificada['is_attributed']==0).sum():,}\")\n",
        "\n",
        "# Guardar\n",
        "ruta = '/content/drive/MyDrive/datos123/estratificada.parquet'\n",
        "muestra_estratificada.to_parquet(ruta, index=False)\n",
        "print(f\"\\nGuardado: {ruta}\")\n"
      ],
      "metadata": {
        "colab": {
          "base_uri": "https://localhost:8080/",
          "height": 174,
          "referenced_widgets": [
            "6c8ccf9c27cc4700b0279b2dea36d53f",
            "2e1fb51fe4324875b6d8a4d1333f1c7e",
            "999fcd2222b3464384230cb044515626"
          ]
        },
        "id": "afA2uaSBlzZA",
        "outputId": "d60a27a4-1900-40d4-9283-67938b7fe24e"
      },
      "execution_count": null,
      "outputs": [
        {
          "output_type": "stream",
          "name": "stdout",
          "text": [
            "Estratificando la muestra actual...\n"
          ]
        },
        {
          "output_type": "display_data",
          "data": {
            "text/plain": [
              "FloatProgress(value=0.0, layout=Layout(width='auto'), style=ProgressStyle(bar_color='black'))"
            ],
            "application/vnd.jupyter.widget-view+json": {
              "version_major": 2,
              "version_minor": 0,
              "model_id": "6c8ccf9c27cc4700b0279b2dea36d53f"
            }
          },
          "metadata": {}
        },
        {
          "output_type": "stream",
          "name": "stdout",
          "text": [
            "\n",
            "Muestra estratificada: 7,751,745\n",
            "Positivos: 456,846\n",
            "Negativos: 7,294,899\n",
            "\n",
            "Guardado: /content/drive/MyDrive/datos123/estratificada.parquet\n"
          ]
        }
      ]
    }
  ]
}