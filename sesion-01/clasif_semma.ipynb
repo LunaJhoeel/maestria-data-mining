{
 "cells": [
  {
   "cell_type": "markdown",
   "id": "513416a6",
   "metadata": {},
   "source": [
    "## Minería de Datos mediante el proceso SEMMA"
   ]
  },
  {
   "cell_type": "markdown",
   "id": "3be22fbb",
   "metadata": {},
   "source": [
    "### (Grupo 05)\n",
    "Integrantes:\n",
    "\n",
    "- Jhoeel Eddye Luna Acostupa\n",
    "- Javier Eduardo Chalan Neira\n",
    "- Neil Kevin Alvarado Vargas\n",
    "- Manuel Jesus Guerrero Ojeda\n",
    "- Jorge Luis Calagua Montoya"
   ]
  },
  {
   "cell_type": "markdown",
   "id": "c141cca4",
   "metadata": {},
   "source": [
    "### 1. Sample (Muestrear)"
   ]
  },
  {
   "cell_type": "code",
   "execution_count": 1,
   "id": "834bd06f",
   "metadata": {},
   "outputs": [],
   "source": [
    "from datetime import datetime\n",
    "\n",
    "import pandas as pd\n",
    "from pycaret.classification import setup, create_model, pull, predict_model, plot_model, finalize_model"
   ]
  },
  {
   "cell_type": "code",
   "execution_count": 2,
   "id": "2f5e8be7",
   "metadata": {},
   "outputs": [
    {
     "data": {
      "text/html": [
       "<div>\n",
       "<style scoped>\n",
       "    .dataframe tbody tr th:only-of-type {\n",
       "        vertical-align: middle;\n",
       "    }\n",
       "\n",
       "    .dataframe tbody tr th {\n",
       "        vertical-align: top;\n",
       "    }\n",
       "\n",
       "    .dataframe thead th {\n",
       "        text-align: right;\n",
       "    }\n",
       "</style>\n",
       "<table border=\"1\" class=\"dataframe\">\n",
       "  <thead>\n",
       "    <tr style=\"text-align: right;\">\n",
       "      <th></th>\n",
       "      <th>CustomerKey</th>\n",
       "      <th>GeographyKey</th>\n",
       "      <th>CustomerAlternateKey</th>\n",
       "      <th>Title</th>\n",
       "      <th>FirstName</th>\n",
       "      <th>MiddleName</th>\n",
       "      <th>LastName</th>\n",
       "      <th>NameStyle</th>\n",
       "      <th>BirthDate</th>\n",
       "      <th>MaritalStatus</th>\n",
       "      <th>...</th>\n",
       "      <th>FrenchOccupation</th>\n",
       "      <th>HouseOwnerFlag</th>\n",
       "      <th>NumberCarsOwned</th>\n",
       "      <th>AddressLine1</th>\n",
       "      <th>AddressLine2</th>\n",
       "      <th>Phone</th>\n",
       "      <th>DateFirstPurchase</th>\n",
       "      <th>CommuteDistance</th>\n",
       "      <th>Region</th>\n",
       "      <th>BikeBuyer</th>\n",
       "    </tr>\n",
       "  </thead>\n",
       "  <tbody>\n",
       "    <tr>\n",
       "      <th>0</th>\n",
       "      <td>11000</td>\n",
       "      <td>26</td>\n",
       "      <td>AW00011000</td>\n",
       "      <td>NaN</td>\n",
       "      <td>Jon</td>\n",
       "      <td>V</td>\n",
       "      <td>Yang</td>\n",
       "      <td>0</td>\n",
       "      <td>1986-10-06</td>\n",
       "      <td>M</td>\n",
       "      <td>...</td>\n",
       "      <td>Cadre</td>\n",
       "      <td>1</td>\n",
       "      <td>0</td>\n",
       "      <td>3761 N. 14th St</td>\n",
       "      <td>NaN</td>\n",
       "      <td>1 (11) 500 555-0162</td>\n",
       "      <td>2011-01-19</td>\n",
       "      <td>1-2 Miles</td>\n",
       "      <td>Pacific</td>\n",
       "      <td>1</td>\n",
       "    </tr>\n",
       "    <tr>\n",
       "      <th>1</th>\n",
       "      <td>11001</td>\n",
       "      <td>37</td>\n",
       "      <td>AW00011001</td>\n",
       "      <td>NaN</td>\n",
       "      <td>Eugene</td>\n",
       "      <td>L</td>\n",
       "      <td>Huang</td>\n",
       "      <td>0</td>\n",
       "      <td>1991-05-10</td>\n",
       "      <td>S</td>\n",
       "      <td>...</td>\n",
       "      <td>Cadre</td>\n",
       "      <td>0</td>\n",
       "      <td>1</td>\n",
       "      <td>2243 W St.</td>\n",
       "      <td>NaN</td>\n",
       "      <td>1 (11) 500 555-0110</td>\n",
       "      <td>2011-01-15</td>\n",
       "      <td>0-1 Miles</td>\n",
       "      <td>Pacific</td>\n",
       "      <td>1</td>\n",
       "    </tr>\n",
       "    <tr>\n",
       "      <th>2</th>\n",
       "      <td>11002</td>\n",
       "      <td>31</td>\n",
       "      <td>AW00011002</td>\n",
       "      <td>NaN</td>\n",
       "      <td>Ruben</td>\n",
       "      <td>NaN</td>\n",
       "      <td>Torres</td>\n",
       "      <td>0</td>\n",
       "      <td>1986-02-09</td>\n",
       "      <td>M</td>\n",
       "      <td>...</td>\n",
       "      <td>Cadre</td>\n",
       "      <td>1</td>\n",
       "      <td>1</td>\n",
       "      <td>5844 Linden Land</td>\n",
       "      <td>NaN</td>\n",
       "      <td>1 (11) 500 555-0184</td>\n",
       "      <td>2011-01-07</td>\n",
       "      <td>2-5 Miles</td>\n",
       "      <td>Pacific</td>\n",
       "      <td>1</td>\n",
       "    </tr>\n",
       "    <tr>\n",
       "      <th>3</th>\n",
       "      <td>11003</td>\n",
       "      <td>11</td>\n",
       "      <td>AW00011003</td>\n",
       "      <td>NaN</td>\n",
       "      <td>Christy</td>\n",
       "      <td>NaN</td>\n",
       "      <td>Zhu</td>\n",
       "      <td>0</td>\n",
       "      <td>1988-08-14</td>\n",
       "      <td>S</td>\n",
       "      <td>...</td>\n",
       "      <td>Cadre</td>\n",
       "      <td>0</td>\n",
       "      <td>1</td>\n",
       "      <td>1825 Village Pl.</td>\n",
       "      <td>NaN</td>\n",
       "      <td>1 (11) 500 555-0162</td>\n",
       "      <td>2010-12-29</td>\n",
       "      <td>5-10 Miles</td>\n",
       "      <td>Pacific</td>\n",
       "      <td>1</td>\n",
       "    </tr>\n",
       "    <tr>\n",
       "      <th>4</th>\n",
       "      <td>11004</td>\n",
       "      <td>19</td>\n",
       "      <td>AW00011004</td>\n",
       "      <td>NaN</td>\n",
       "      <td>Elizabeth</td>\n",
       "      <td>NaN</td>\n",
       "      <td>Johnson</td>\n",
       "      <td>0</td>\n",
       "      <td>1994-08-05</td>\n",
       "      <td>S</td>\n",
       "      <td>...</td>\n",
       "      <td>Cadre</td>\n",
       "      <td>1</td>\n",
       "      <td>4</td>\n",
       "      <td>7553 Harness Circle</td>\n",
       "      <td>NaN</td>\n",
       "      <td>1 (11) 500 555-0131</td>\n",
       "      <td>2011-01-23</td>\n",
       "      <td>1-2 Miles</td>\n",
       "      <td>Pacific</td>\n",
       "      <td>1</td>\n",
       "    </tr>\n",
       "  </tbody>\n",
       "</table>\n",
       "<p>5 rows × 31 columns</p>\n",
       "</div>"
      ],
      "text/plain": [
       "   CustomerKey  GeographyKey CustomerAlternateKey Title  FirstName MiddleName  \\\n",
       "0        11000            26           AW00011000   NaN        Jon          V   \n",
       "1        11001            37           AW00011001   NaN     Eugene          L   \n",
       "2        11002            31           AW00011002   NaN      Ruben        NaN   \n",
       "3        11003            11           AW00011003   NaN    Christy        NaN   \n",
       "4        11004            19           AW00011004   NaN  Elizabeth        NaN   \n",
       "\n",
       "  LastName  NameStyle  BirthDate MaritalStatus  ... FrenchOccupation  \\\n",
       "0     Yang          0 1986-10-06             M  ...            Cadre   \n",
       "1    Huang          0 1991-05-10             S  ...            Cadre   \n",
       "2   Torres          0 1986-02-09             M  ...            Cadre   \n",
       "3      Zhu          0 1988-08-14             S  ...            Cadre   \n",
       "4  Johnson          0 1994-08-05             S  ...            Cadre   \n",
       "\n",
       "  HouseOwnerFlag NumberCarsOwned         AddressLine1  AddressLine2  \\\n",
       "0              1               0      3761 N. 14th St           NaN   \n",
       "1              0               1           2243 W St.           NaN   \n",
       "2              1               1     5844 Linden Land           NaN   \n",
       "3              0               1     1825 Village Pl.           NaN   \n",
       "4              1               4  7553 Harness Circle           NaN   \n",
       "\n",
       "                 Phone DateFirstPurchase CommuteDistance   Region BikeBuyer  \n",
       "0  1 (11) 500 555-0162        2011-01-19       1-2 Miles  Pacific         1  \n",
       "1  1 (11) 500 555-0110        2011-01-15       0-1 Miles  Pacific         1  \n",
       "2  1 (11) 500 555-0184        2011-01-07       2-5 Miles  Pacific         1  \n",
       "3  1 (11) 500 555-0162        2010-12-29      5-10 Miles  Pacific         1  \n",
       "4  1 (11) 500 555-0131        2011-01-23       1-2 Miles  Pacific         1  \n",
       "\n",
       "[5 rows x 31 columns]"
      ]
     },
     "execution_count": 2,
     "metadata": {},
     "output_type": "execute_result"
    }
   ],
   "source": [
    "df_inicial = pd.read_excel(\"sesion-01/Ejercicio_Aplicacion_SEMMA.xlsx\")\n",
    "df_inicial.head()"
   ]
  },
  {
   "cell_type": "markdown",
   "id": "5143b023",
   "metadata": {},
   "source": [
    "Se verifica el tamnho del conjunto de datos"
   ]
  },
  {
   "cell_type": "code",
   "execution_count": 3,
   "id": "b3fcce5a",
   "metadata": {},
   "outputs": [
    {
     "data": {
      "text/plain": [
       "(18484, 31)"
      ]
     },
     "execution_count": 3,
     "metadata": {},
     "output_type": "execute_result"
    }
   ],
   "source": [
    "df_inicial.shape"
   ]
  },
  {
   "cell_type": "markdown",
   "id": "005541e8",
   "metadata": {},
   "source": [
    "Se revisa el nombre de las columnas"
   ]
  },
  {
   "cell_type": "code",
   "execution_count": 4,
   "id": "ba3fecb1",
   "metadata": {},
   "outputs": [
    {
     "name": "stdout",
     "output_type": "stream",
     "text": [
      "<class 'pandas.core.frame.DataFrame'>\n",
      "RangeIndex: 18484 entries, 0 to 18483\n",
      "Data columns (total 31 columns):\n",
      " #   Column                Non-Null Count  Dtype         \n",
      "---  ------                --------------  -----         \n",
      " 0   CustomerKey           18484 non-null  int64         \n",
      " 1   GeographyKey          18484 non-null  int64         \n",
      " 2   CustomerAlternateKey  18484 non-null  object        \n",
      " 3   Title                 101 non-null    object        \n",
      " 4   FirstName             18484 non-null  object        \n",
      " 5   MiddleName            10654 non-null  object        \n",
      " 6   LastName              18484 non-null  object        \n",
      " 7   NameStyle             18484 non-null  int64         \n",
      " 8   BirthDate             18484 non-null  datetime64[ns]\n",
      " 9   MaritalStatus         18484 non-null  object        \n",
      " 10  Suffix                3 non-null      object        \n",
      " 11  Gender                18484 non-null  object        \n",
      " 12  EmailAddress          18484 non-null  object        \n",
      " 13  YearlyIncome          18484 non-null  int64         \n",
      " 14  TotalChildren         18484 non-null  int64         \n",
      " 15  NumberChildrenAtHome  18484 non-null  int64         \n",
      " 16  EnglishEducation      18484 non-null  object        \n",
      " 17  SpanishEducation      18484 non-null  object        \n",
      " 18  FrenchEducation       18484 non-null  object        \n",
      " 19  EnglishOccupation     18484 non-null  object        \n",
      " 20  SpanishOccupation     18484 non-null  object        \n",
      " 21  FrenchOccupation      18484 non-null  object        \n",
      " 22  HouseOwnerFlag        18484 non-null  int64         \n",
      " 23  NumberCarsOwned       18484 non-null  int64         \n",
      " 24  AddressLine1          18484 non-null  object        \n",
      " 25  AddressLine2          312 non-null    object        \n",
      " 26  Phone                 18484 non-null  object        \n",
      " 27  DateFirstPurchase     18484 non-null  datetime64[ns]\n",
      " 28  CommuteDistance       18484 non-null  object        \n",
      " 29  Region                18484 non-null  object        \n",
      " 30  BikeBuyer             18484 non-null  int64         \n",
      "dtypes: datetime64[ns](2), int64(9), object(20)\n",
      "memory usage: 4.4+ MB\n"
     ]
    }
   ],
   "source": [
    "df_inicial.info()"
   ]
  },
  {
   "cell_type": "markdown",
   "id": "9ac6bb72",
   "metadata": {},
   "source": [
    "Se observan columnas redundantes de equivalencias de eduaci[on en otros idiomas."
   ]
  },
  {
   "cell_type": "code",
   "execution_count": 5,
   "id": "5d349e58",
   "metadata": {},
   "outputs": [
    {
     "data": {
      "text/plain": [
       "Index(['CustomerKey', 'GeographyKey', 'CustomerAlternateKey', 'Title',\n",
       "       'FirstName', 'MiddleName', 'LastName', 'NameStyle', 'BirthDate',\n",
       "       'MaritalStatus', 'Suffix', 'Gender', 'EmailAddress', 'YearlyIncome',\n",
       "       'TotalChildren', 'NumberChildrenAtHome', 'SpanishEducation',\n",
       "       'SpanishOccupation', 'HouseOwnerFlag', 'NumberCarsOwned',\n",
       "       'AddressLine1', 'AddressLine2', 'Phone', 'DateFirstPurchase',\n",
       "       'CommuteDistance', 'Region', 'BikeBuyer'],\n",
       "      dtype='object')"
      ]
     },
     "execution_count": 5,
     "metadata": {},
     "output_type": "execute_result"
    }
   ],
   "source": [
    "cols_redundantes = [\"EnglishEducation\", \"FrenchEducation\", \"EnglishOccupation\", \"FrenchOccupation\"]\n",
    "\n",
    "df = df_inicial.drop(columns=cols_redundantes, errors=\"ignore\")\n",
    "df.columns"
   ]
  },
  {
   "cell_type": "markdown",
   "id": "68229559",
   "metadata": {},
   "source": [
    "Hay que revisar si hay duplicados por llave de cliente"
   ]
  },
  {
   "cell_type": "code",
   "execution_count": 6,
   "id": "bd70a6ce",
   "metadata": {},
   "outputs": [
    {
     "data": {
      "text/html": [
       "<div>\n",
       "<style scoped>\n",
       "    .dataframe tbody tr th:only-of-type {\n",
       "        vertical-align: middle;\n",
       "    }\n",
       "\n",
       "    .dataframe tbody tr th {\n",
       "        vertical-align: top;\n",
       "    }\n",
       "\n",
       "    .dataframe thead th {\n",
       "        text-align: right;\n",
       "    }\n",
       "</style>\n",
       "<table border=\"1\" class=\"dataframe\">\n",
       "  <thead>\n",
       "    <tr style=\"text-align: right;\">\n",
       "      <th></th>\n",
       "      <th>CustomerKey</th>\n",
       "      <th>GeographyKey</th>\n",
       "      <th>CustomerAlternateKey</th>\n",
       "      <th>Title</th>\n",
       "      <th>FirstName</th>\n",
       "      <th>MiddleName</th>\n",
       "      <th>LastName</th>\n",
       "      <th>NameStyle</th>\n",
       "      <th>BirthDate</th>\n",
       "      <th>MaritalStatus</th>\n",
       "      <th>...</th>\n",
       "      <th>SpanishOccupation</th>\n",
       "      <th>HouseOwnerFlag</th>\n",
       "      <th>NumberCarsOwned</th>\n",
       "      <th>AddressLine1</th>\n",
       "      <th>AddressLine2</th>\n",
       "      <th>Phone</th>\n",
       "      <th>DateFirstPurchase</th>\n",
       "      <th>CommuteDistance</th>\n",
       "      <th>Region</th>\n",
       "      <th>BikeBuyer</th>\n",
       "    </tr>\n",
       "  </thead>\n",
       "  <tbody>\n",
       "  </tbody>\n",
       "</table>\n",
       "<p>0 rows × 27 columns</p>\n",
       "</div>"
      ],
      "text/plain": [
       "Empty DataFrame\n",
       "Columns: [CustomerKey, GeographyKey, CustomerAlternateKey, Title, FirstName, MiddleName, LastName, NameStyle, BirthDate, MaritalStatus, Suffix, Gender, EmailAddress, YearlyIncome, TotalChildren, NumberChildrenAtHome, SpanishEducation, SpanishOccupation, HouseOwnerFlag, NumberCarsOwned, AddressLine1, AddressLine2, Phone, DateFirstPurchase, CommuteDistance, Region, BikeBuyer]\n",
       "Index: []\n",
       "\n",
       "[0 rows x 27 columns]"
      ]
     },
     "execution_count": 6,
     "metadata": {},
     "output_type": "execute_result"
    }
   ],
   "source": [
    "df[df.duplicated(subset=[\"CustomerKey\"], keep=False)]"
   ]
  },
  {
   "cell_type": "code",
   "execution_count": 7,
   "id": "aba5aedb",
   "metadata": {},
   "outputs": [],
   "source": [
    "# Dato extranho: si hay mas hijos totales que en casa\n",
    "# filas_hijos = df[df[\"NumberChildrenAtHome\"].fillna(0) > df[\"TotalChildren\"].fillna(0)]\n",
    "# len(filas_hijos)"
   ]
  },
  {
   "cell_type": "markdown",
   "id": "709dd41f",
   "metadata": {},
   "source": [
    "Ahora, hay que revisar los valores nulos"
   ]
  },
  {
   "cell_type": "markdown",
   "id": "faa64f46",
   "metadata": {},
   "source": [
    "## 2. Explore (Explorar)"
   ]
  },
  {
   "cell_type": "code",
   "execution_count": 8,
   "id": "1eaaf162",
   "metadata": {},
   "outputs": [
    {
     "data": {
      "text/plain": [
       "CustomerKey                 0\n",
       "GeographyKey                0\n",
       "CustomerAlternateKey        0\n",
       "Title                   18383\n",
       "FirstName                   0\n",
       "MiddleName               7830\n",
       "LastName                    0\n",
       "NameStyle                   0\n",
       "BirthDate                   0\n",
       "MaritalStatus               0\n",
       "Suffix                  18481\n",
       "Gender                      0\n",
       "EmailAddress                0\n",
       "YearlyIncome                0\n",
       "TotalChildren               0\n",
       "NumberChildrenAtHome        0\n",
       "SpanishEducation            0\n",
       "SpanishOccupation           0\n",
       "HouseOwnerFlag              0\n",
       "NumberCarsOwned             0\n",
       "AddressLine1                0\n",
       "AddressLine2            18172\n",
       "Phone                       0\n",
       "DateFirstPurchase           0\n",
       "CommuteDistance             0\n",
       "Region                      0\n",
       "BikeBuyer                   0\n",
       "dtype: int64"
      ]
     },
     "execution_count": 8,
     "metadata": {},
     "output_type": "execute_result"
    }
   ],
   "source": [
    "df.isnull().sum()"
   ]
  },
  {
   "cell_type": "code",
   "execution_count": 9,
   "id": "34a06813",
   "metadata": {},
   "outputs": [
    {
     "data": {
      "text/plain": [
       "CustomerKey              0.000000\n",
       "GeographyKey             0.000000\n",
       "CustomerAlternateKey     0.000000\n",
       "Title                   99.453581\n",
       "FirstName                0.000000\n",
       "MiddleName              42.360961\n",
       "LastName                 0.000000\n",
       "NameStyle                0.000000\n",
       "BirthDate                0.000000\n",
       "MaritalStatus            0.000000\n",
       "Suffix                  99.983770\n",
       "Gender                   0.000000\n",
       "EmailAddress             0.000000\n",
       "YearlyIncome             0.000000\n",
       "TotalChildren            0.000000\n",
       "NumberChildrenAtHome     0.000000\n",
       "SpanishEducation         0.000000\n",
       "SpanishOccupation        0.000000\n",
       "HouseOwnerFlag           0.000000\n",
       "NumberCarsOwned          0.000000\n",
       "AddressLine1             0.000000\n",
       "AddressLine2            98.312054\n",
       "Phone                    0.000000\n",
       "DateFirstPurchase        0.000000\n",
       "CommuteDistance          0.000000\n",
       "Region                   0.000000\n",
       "BikeBuyer                0.000000\n",
       "dtype: float64"
      ]
     },
     "execution_count": 9,
     "metadata": {},
     "output_type": "execute_result"
    }
   ],
   "source": [
    "nulos_totales = df.isnull().sum()\n",
    "(nulos_totales / len(df)) * 100"
   ]
  },
  {
   "cell_type": "markdown",
   "id": "96f60db3",
   "metadata": {},
   "source": [
    "Como no aportan informacion y son muchos nulls, se eliminaran"
   ]
  },
  {
   "cell_type": "code",
   "execution_count": 10,
   "id": "ef1ee0e2",
   "metadata": {},
   "outputs": [
    {
     "name": "stdout",
     "output_type": "stream",
     "text": [
      "{'CustomerAlternateKey': 18484, 'Title': 5, 'FirstName': 670, 'MiddleName': 44, 'LastName': 375, 'MaritalStatus': 2, 'Suffix': 1, 'Gender': 2, 'EmailAddress': 18484, 'SpanishEducation': 5, 'SpanishOccupation': 5, 'AddressLine1': 12802, 'AddressLine2': 166, 'Phone': 8890, 'CommuteDistance': 5, 'Region': 3}\n"
     ]
    }
   ],
   "source": [
    "cardinalidades = {}\n",
    "for columna in df.select_dtypes(include=[\"object\", \"category\"]).columns:\n",
    "    cardinalidades[columna] = df[columna].nunique()\n",
    "\n",
    "print(cardinalidades)"
   ]
  },
  {
   "cell_type": "markdown",
   "id": "068d1462",
   "metadata": {},
   "source": [
    "Tambien, se elininaran las columnas con alta cardinalidad"
   ]
  },
  {
   "cell_type": "code",
   "execution_count": 11,
   "id": "dd9b9c55",
   "metadata": {},
   "outputs": [
    {
     "data": {
      "text/plain": [
       "Index(['CustomerKey', 'GeographyKey', 'NameStyle', 'BirthDate',\n",
       "       'MaritalStatus', 'Gender', 'YearlyIncome', 'TotalChildren',\n",
       "       'NumberChildrenAtHome', 'SpanishEducation', 'SpanishOccupation',\n",
       "       'HouseOwnerFlag', 'NumberCarsOwned', 'DateFirstPurchase',\n",
       "       'CommuteDistance', 'Region', 'BikeBuyer'],\n",
       "      dtype='object')"
      ]
     },
     "execution_count": 11,
     "metadata": {},
     "output_type": "execute_result"
    }
   ],
   "source": [
    "cols_descartables = [\n",
    "    \"Title\", \"MiddleName\", \"Suffix\", \"AddressLine2\",  # nulos sin valor\n",
    "    \"CustomerAlternateKey\", \"FirstName\", \"LastName\", \"MiddleName\",  # cols de alta cardinalidad\n",
    "    \"Suffix\", \"EmailAddress\", \"AddressLine1\", \"AddressLine2\", \"Phone\"  # cols de alta cardinalidad\n",
    "]\n",
    "\n",
    "df_medio = df.drop(columns=cols_descartables, errors=\"ignore\")\n",
    "df_medio.columns"
   ]
  },
  {
   "cell_type": "markdown",
   "id": "0cd0f15b",
   "metadata": {},
   "source": [
    "Revision de outliers"
   ]
  },
  {
   "cell_type": "code",
   "execution_count": 12,
   "id": "129c97f0",
   "metadata": {},
   "outputs": [
    {
     "name": "stdout",
     "output_type": "stream",
     "text": [
      "Rango: de 10000 a 170000\n",
      "Media: 57305.77797013633\n",
      "Outliers: 309\n",
      "Porcentaje: 1.671716078770829 %\n"
     ]
    }
   ],
   "source": [
    "ingreso_min = df_medio[\"YearlyIncome\"].min()\n",
    "ingreso_max = df_medio[\"YearlyIncome\"].max()\n",
    "ingreso_media = df_medio[\"YearlyIncome\"].mean()\n",
    "ingreso_q1 = df_medio[\"YearlyIncome\"].quantile(0.25)\n",
    "ingreso_q3 = df_medio[\"YearlyIncome\"].quantile(0.75)\n",
    "rango_intercuartil = ingreso_q3 - ingreso_q1\n",
    "\n",
    "limite_inferior = ingreso_q1 - 1.5 * rango_intercuartil\n",
    "limite_superior = ingreso_q3 + 1.5 * rango_intercuartil\n",
    "\n",
    "outliers = df_medio[(df_medio[\"YearlyIncome\"] < limite_inferior) | (df_medio[\"YearlyIncome\"] > limite_superior)]\n",
    "\n",
    "total_registros = len(df_medio)\n",
    "total_outliers = len(outliers)\n",
    "porcentaje_outliers = (total_outliers / total_registros) * 100\n",
    "\n",
    "print(\"Rango: de\", ingreso_min, \"a\", ingreso_max)\n",
    "print(\"Media:\", ingreso_media)\n",
    "print(\"Outliers:\", total_outliers)\n",
    "print(\"Porcentaje:\", porcentaje_outliers, \"%\")\n"
   ]
  },
  {
   "cell_type": "markdown",
   "id": "2f3ca307",
   "metadata": {},
   "source": [
    "Revision de balance de clases del target"
   ]
  },
  {
   "cell_type": "code",
   "execution_count": 13,
   "id": "df7b8f5d",
   "metadata": {},
   "outputs": [
    {
     "data": {
      "text/plain": [
       "BikeBuyer\n",
       "0    50.595109\n",
       "1    49.404891\n",
       "Name: proportion, dtype: float64"
      ]
     },
     "execution_count": 13,
     "metadata": {},
     "output_type": "execute_result"
    }
   ],
   "source": [
    "df_medio[\"BikeBuyer\"].value_counts(normalize=True) * 100"
   ]
  },
  {
   "cell_type": "markdown",
   "id": "11ab123f",
   "metadata": {},
   "source": [
    "## 3. Modify (Modificar)"
   ]
  },
  {
   "cell_type": "markdown",
   "id": "e27ae872",
   "metadata": {},
   "source": [
    "Se removeran los outliers puesto que represntan menos del 5% del total de muestras"
   ]
  },
  {
   "cell_type": "code",
   "execution_count": 14,
   "id": "bb3cca90",
   "metadata": {},
   "outputs": [
    {
     "name": "stdout",
     "output_type": "stream",
     "text": [
      "18484\n",
      "18175\n"
     ]
    }
   ],
   "source": [
    "print(len(df_medio))\n",
    "df_sin_outliers = df_medio[(df_medio[\"YearlyIncome\"] >= limite_inferior) & (df_medio[\"YearlyIncome\"] <= limite_superior)]\n",
    "print(len(df_sin_outliers))"
   ]
  },
  {
   "cell_type": "markdown",
   "id": "52087095",
   "metadata": {},
   "source": [
    "Revisar distribucion de edades"
   ]
  },
  {
   "cell_type": "code",
   "execution_count": 15,
   "id": "6a771a40",
   "metadata": {},
   "outputs": [
    {
     "data": {
      "text/plain": [
       "count    18175.000000\n",
       "mean        40.769354\n",
       "std         11.545283\n",
       "min         24.000000\n",
       "25%         31.000000\n",
       "50%         39.000000\n",
       "75%         48.000000\n",
       "max         94.000000\n",
       "Name: Edad, dtype: float64"
      ]
     },
     "execution_count": 15,
     "metadata": {},
     "output_type": "execute_result"
    }
   ],
   "source": [
    "fecha_actual = datetime.now()\n",
    "df_sin_outliers[\"Edad\"] = df_sin_outliers[\"BirthDate\"].apply(lambda x: (fecha_actual - pd.to_datetime(x)).days // 365)\n",
    "df_sin_outliers[\"Edad\"].describe()"
   ]
  },
  {
   "cell_type": "markdown",
   "id": "7ddb3b85",
   "metadata": {},
   "source": [
    "Parece que los outliers de edad entre 80 a 94 anhos son posibles."
   ]
  },
  {
   "cell_type": "markdown",
   "id": "72016263",
   "metadata": {},
   "source": [
    "Se hara ingenieria de caracteristicas a la fecha para obtener edades"
   ]
  },
  {
   "cell_type": "code",
   "execution_count": 16,
   "id": "6911ed7e",
   "metadata": {},
   "outputs": [
    {
     "data": {
      "text/html": [
       "<div>\n",
       "<style scoped>\n",
       "    .dataframe tbody tr th:only-of-type {\n",
       "        vertical-align: middle;\n",
       "    }\n",
       "\n",
       "    .dataframe tbody tr th {\n",
       "        vertical-align: top;\n",
       "    }\n",
       "\n",
       "    .dataframe thead th {\n",
       "        text-align: right;\n",
       "    }\n",
       "</style>\n",
       "<table border=\"1\" class=\"dataframe\">\n",
       "  <thead>\n",
       "    <tr style=\"text-align: right;\">\n",
       "      <th></th>\n",
       "      <th>CustomerKey</th>\n",
       "      <th>GeographyKey</th>\n",
       "      <th>NameStyle</th>\n",
       "      <th>BirthDate</th>\n",
       "      <th>MaritalStatus</th>\n",
       "      <th>Gender</th>\n",
       "      <th>YearlyIncome</th>\n",
       "      <th>TotalChildren</th>\n",
       "      <th>NumberChildrenAtHome</th>\n",
       "      <th>SpanishEducation</th>\n",
       "      <th>SpanishOccupation</th>\n",
       "      <th>HouseOwnerFlag</th>\n",
       "      <th>NumberCarsOwned</th>\n",
       "      <th>DateFirstPurchase</th>\n",
       "      <th>CommuteDistance</th>\n",
       "      <th>Region</th>\n",
       "      <th>BikeBuyer</th>\n",
       "      <th>Edad</th>\n",
       "    </tr>\n",
       "  </thead>\n",
       "  <tbody>\n",
       "    <tr>\n",
       "      <th>750</th>\n",
       "      <td>11750</td>\n",
       "      <td>10</td>\n",
       "      <td>0</td>\n",
       "      <td>1999-09-17</td>\n",
       "      <td>M</td>\n",
       "      <td>F</td>\n",
       "      <td>60000</td>\n",
       "      <td>2</td>\n",
       "      <td>2</td>\n",
       "      <td>Licenciatura</td>\n",
       "      <td>Profesional</td>\n",
       "      <td>1</td>\n",
       "      <td>1</td>\n",
       "      <td>2011-07-14</td>\n",
       "      <td>0-1 Miles</td>\n",
       "      <td>Pacific</td>\n",
       "      <td>1</td>\n",
       "      <td>25</td>\n",
       "    </tr>\n",
       "    <tr>\n",
       "      <th>11271</th>\n",
       "      <td>22271</td>\n",
       "      <td>336</td>\n",
       "      <td>0</td>\n",
       "      <td>1995-02-21</td>\n",
       "      <td>M</td>\n",
       "      <td>M</td>\n",
       "      <td>80000</td>\n",
       "      <td>3</td>\n",
       "      <td>0</td>\n",
       "      <td>Estudios de postgrado</td>\n",
       "      <td>Profesional</td>\n",
       "      <td>1</td>\n",
       "      <td>0</td>\n",
       "      <td>2013-06-19</td>\n",
       "      <td>0-1 Miles</td>\n",
       "      <td>North America</td>\n",
       "      <td>1</td>\n",
       "      <td>30</td>\n",
       "    </tr>\n",
       "    <tr>\n",
       "      <th>14268</th>\n",
       "      <td>25268</td>\n",
       "      <td>15</td>\n",
       "      <td>0</td>\n",
       "      <td>1959-08-11</td>\n",
       "      <td>M</td>\n",
       "      <td>M</td>\n",
       "      <td>60000</td>\n",
       "      <td>2</td>\n",
       "      <td>0</td>\n",
       "      <td>Estudios de postgrado</td>\n",
       "      <td>Gestión</td>\n",
       "      <td>0</td>\n",
       "      <td>1</td>\n",
       "      <td>2013-09-21</td>\n",
       "      <td>0-1 Miles</td>\n",
       "      <td>Pacific</td>\n",
       "      <td>0</td>\n",
       "      <td>66</td>\n",
       "    </tr>\n",
       "    <tr>\n",
       "      <th>4356</th>\n",
       "      <td>15356</td>\n",
       "      <td>167</td>\n",
       "      <td>0</td>\n",
       "      <td>1975-10-16</td>\n",
       "      <td>M</td>\n",
       "      <td>F</td>\n",
       "      <td>120000</td>\n",
       "      <td>3</td>\n",
       "      <td>4</td>\n",
       "      <td>Educación secundaria (en curso)</td>\n",
       "      <td>Profesional</td>\n",
       "      <td>1</td>\n",
       "      <td>4</td>\n",
       "      <td>2013-03-07</td>\n",
       "      <td>10+ Miles</td>\n",
       "      <td>Europe</td>\n",
       "      <td>0</td>\n",
       "      <td>49</td>\n",
       "    </tr>\n",
       "    <tr>\n",
       "      <th>12626</th>\n",
       "      <td>23626</td>\n",
       "      <td>207</td>\n",
       "      <td>0</td>\n",
       "      <td>1970-09-08</td>\n",
       "      <td>S</td>\n",
       "      <td>M</td>\n",
       "      <td>90000</td>\n",
       "      <td>4</td>\n",
       "      <td>1</td>\n",
       "      <td>Educación secundaria</td>\n",
       "      <td>Gestión</td>\n",
       "      <td>1</td>\n",
       "      <td>3</td>\n",
       "      <td>2013-07-24</td>\n",
       "      <td>10+ Miles</td>\n",
       "      <td>Europe</td>\n",
       "      <td>0</td>\n",
       "      <td>55</td>\n",
       "    </tr>\n",
       "  </tbody>\n",
       "</table>\n",
       "</div>"
      ],
      "text/plain": [
       "       CustomerKey  GeographyKey  NameStyle  BirthDate MaritalStatus Gender  \\\n",
       "750          11750            10          0 1999-09-17             M      F   \n",
       "11271        22271           336          0 1995-02-21             M      M   \n",
       "14268        25268            15          0 1959-08-11             M      M   \n",
       "4356         15356           167          0 1975-10-16             M      F   \n",
       "12626        23626           207          0 1970-09-08             S      M   \n",
       "\n",
       "       YearlyIncome  TotalChildren  NumberChildrenAtHome  \\\n",
       "750           60000              2                     2   \n",
       "11271         80000              3                     0   \n",
       "14268         60000              2                     0   \n",
       "4356         120000              3                     4   \n",
       "12626         90000              4                     1   \n",
       "\n",
       "                      SpanishEducation SpanishOccupation  HouseOwnerFlag  \\\n",
       "750                       Licenciatura       Profesional               1   \n",
       "11271            Estudios de postgrado       Profesional               1   \n",
       "14268            Estudios de postgrado           Gestión               0   \n",
       "4356   Educación secundaria (en curso)       Profesional               1   \n",
       "12626             Educación secundaria           Gestión               1   \n",
       "\n",
       "       NumberCarsOwned DateFirstPurchase CommuteDistance         Region  \\\n",
       "750                  1        2011-07-14       0-1 Miles        Pacific   \n",
       "11271                0        2013-06-19       0-1 Miles  North America   \n",
       "14268                1        2013-09-21       0-1 Miles        Pacific   \n",
       "4356                 4        2013-03-07       10+ Miles         Europe   \n",
       "12626                3        2013-07-24       10+ Miles         Europe   \n",
       "\n",
       "       BikeBuyer  Edad  \n",
       "750            1    25  \n",
       "11271          1    30  \n",
       "14268          0    66  \n",
       "4356           0    49  \n",
       "12626          0    55  "
      ]
     },
     "execution_count": 16,
     "metadata": {},
     "output_type": "execute_result"
    }
   ],
   "source": [
    "df_final = df_sin_outliers.copy()\n",
    "df_final[\"Edad\"] = (fecha_actual - pd.to_datetime(df_final[\"BirthDate\"])).dt.days // 365\n",
    "\n",
    "df_final.sample(5, random_state=42)"
   ]
  },
  {
   "cell_type": "markdown",
   "id": "725e1bf2",
   "metadata": {},
   "source": [
    "## 4. Model (Modelar)"
   ]
  },
  {
   "cell_type": "code",
   "execution_count": 17,
   "id": "c629b964",
   "metadata": {},
   "outputs": [
    {
     "data": {
      "text/plain": [
       "Index(['CustomerKey', 'GeographyKey', 'NameStyle', 'BirthDate',\n",
       "       'MaritalStatus', 'Gender', 'YearlyIncome', 'TotalChildren',\n",
       "       'NumberChildrenAtHome', 'SpanishEducation', 'SpanishOccupation',\n",
       "       'HouseOwnerFlag', 'NumberCarsOwned', 'DateFirstPurchase',\n",
       "       'CommuteDistance', 'Region', 'BikeBuyer', 'Edad'],\n",
       "      dtype='object')"
      ]
     },
     "execution_count": 17,
     "metadata": {},
     "output_type": "execute_result"
    }
   ],
   "source": [
    "df_final.columns"
   ]
  },
  {
   "cell_type": "code",
   "execution_count": 18,
   "id": "c7adcd61",
   "metadata": {},
   "outputs": [
    {
     "data": {
      "text/html": [
       "<style type=\"text/css\">\n",
       "#T_c6362_row10_col1 {\n",
       "  background-color: lightgreen;\n",
       "}\n",
       "</style>\n",
       "<table id=\"T_c6362\">\n",
       "  <thead>\n",
       "    <tr>\n",
       "      <th class=\"blank level0\" >&nbsp;</th>\n",
       "      <th id=\"T_c6362_level0_col0\" class=\"col_heading level0 col0\" >Description</th>\n",
       "      <th id=\"T_c6362_level0_col1\" class=\"col_heading level0 col1\" >Value</th>\n",
       "    </tr>\n",
       "  </thead>\n",
       "  <tbody>\n",
       "    <tr>\n",
       "      <th id=\"T_c6362_level0_row0\" class=\"row_heading level0 row0\" >0</th>\n",
       "      <td id=\"T_c6362_row0_col0\" class=\"data row0 col0\" >Session id</td>\n",
       "      <td id=\"T_c6362_row0_col1\" class=\"data row0 col1\" >42</td>\n",
       "    </tr>\n",
       "    <tr>\n",
       "      <th id=\"T_c6362_level0_row1\" class=\"row_heading level0 row1\" >1</th>\n",
       "      <td id=\"T_c6362_row1_col0\" class=\"data row1 col0\" >Target</td>\n",
       "      <td id=\"T_c6362_row1_col1\" class=\"data row1 col1\" >BikeBuyer</td>\n",
       "    </tr>\n",
       "    <tr>\n",
       "      <th id=\"T_c6362_level0_row2\" class=\"row_heading level0 row2\" >2</th>\n",
       "      <td id=\"T_c6362_row2_col0\" class=\"data row2 col0\" >Target type</td>\n",
       "      <td id=\"T_c6362_row2_col1\" class=\"data row2 col1\" >Binary</td>\n",
       "    </tr>\n",
       "    <tr>\n",
       "      <th id=\"T_c6362_level0_row3\" class=\"row_heading level0 row3\" >3</th>\n",
       "      <td id=\"T_c6362_row3_col0\" class=\"data row3 col0\" >Original data shape</td>\n",
       "      <td id=\"T_c6362_row3_col1\" class=\"data row3 col1\" >(18175, 18)</td>\n",
       "    </tr>\n",
       "    <tr>\n",
       "      <th id=\"T_c6362_level0_row4\" class=\"row_heading level0 row4\" >4</th>\n",
       "      <td id=\"T_c6362_row4_col0\" class=\"data row4 col0\" >Transformed data shape</td>\n",
       "      <td id=\"T_c6362_row4_col1\" class=\"data row4 col1\" >(18175, 28)</td>\n",
       "    </tr>\n",
       "    <tr>\n",
       "      <th id=\"T_c6362_level0_row5\" class=\"row_heading level0 row5\" >5</th>\n",
       "      <td id=\"T_c6362_row5_col0\" class=\"data row5 col0\" >Transformed train set shape</td>\n",
       "      <td id=\"T_c6362_row5_col1\" class=\"data row5 col1\" >(12722, 28)</td>\n",
       "    </tr>\n",
       "    <tr>\n",
       "      <th id=\"T_c6362_level0_row6\" class=\"row_heading level0 row6\" >6</th>\n",
       "      <td id=\"T_c6362_row6_col0\" class=\"data row6 col0\" >Transformed test set shape</td>\n",
       "      <td id=\"T_c6362_row6_col1\" class=\"data row6 col1\" >(5453, 28)</td>\n",
       "    </tr>\n",
       "    <tr>\n",
       "      <th id=\"T_c6362_level0_row7\" class=\"row_heading level0 row7\" >7</th>\n",
       "      <td id=\"T_c6362_row7_col0\" class=\"data row7 col0\" >Ignore features</td>\n",
       "      <td id=\"T_c6362_row7_col1\" class=\"data row7 col1\" >4</td>\n",
       "    </tr>\n",
       "    <tr>\n",
       "      <th id=\"T_c6362_level0_row8\" class=\"row_heading level0 row8\" >8</th>\n",
       "      <td id=\"T_c6362_row8_col0\" class=\"data row8 col0\" >Numeric features</td>\n",
       "      <td id=\"T_c6362_row8_col1\" class=\"data row8 col1\" >5</td>\n",
       "    </tr>\n",
       "    <tr>\n",
       "      <th id=\"T_c6362_level0_row9\" class=\"row_heading level0 row9\" >9</th>\n",
       "      <td id=\"T_c6362_row9_col0\" class=\"data row9 col0\" >Categorical features</td>\n",
       "      <td id=\"T_c6362_row9_col1\" class=\"data row9 col1\" >8</td>\n",
       "    </tr>\n",
       "    <tr>\n",
       "      <th id=\"T_c6362_level0_row10\" class=\"row_heading level0 row10\" >10</th>\n",
       "      <td id=\"T_c6362_row10_col0\" class=\"data row10 col0\" >Preprocess</td>\n",
       "      <td id=\"T_c6362_row10_col1\" class=\"data row10 col1\" >True</td>\n",
       "    </tr>\n",
       "    <tr>\n",
       "      <th id=\"T_c6362_level0_row11\" class=\"row_heading level0 row11\" >11</th>\n",
       "      <td id=\"T_c6362_row11_col0\" class=\"data row11 col0\" >Imputation type</td>\n",
       "      <td id=\"T_c6362_row11_col1\" class=\"data row11 col1\" >simple</td>\n",
       "    </tr>\n",
       "    <tr>\n",
       "      <th id=\"T_c6362_level0_row12\" class=\"row_heading level0 row12\" >12</th>\n",
       "      <td id=\"T_c6362_row12_col0\" class=\"data row12 col0\" >Numeric imputation</td>\n",
       "      <td id=\"T_c6362_row12_col1\" class=\"data row12 col1\" >median</td>\n",
       "    </tr>\n",
       "    <tr>\n",
       "      <th id=\"T_c6362_level0_row13\" class=\"row_heading level0 row13\" >13</th>\n",
       "      <td id=\"T_c6362_row13_col0\" class=\"data row13 col0\" >Categorical imputation</td>\n",
       "      <td id=\"T_c6362_row13_col1\" class=\"data row13 col1\" >constant</td>\n",
       "    </tr>\n",
       "    <tr>\n",
       "      <th id=\"T_c6362_level0_row14\" class=\"row_heading level0 row14\" >14</th>\n",
       "      <td id=\"T_c6362_row14_col0\" class=\"data row14 col0\" >Maximum one-hot encoding</td>\n",
       "      <td id=\"T_c6362_row14_col1\" class=\"data row14 col1\" >25</td>\n",
       "    </tr>\n",
       "    <tr>\n",
       "      <th id=\"T_c6362_level0_row15\" class=\"row_heading level0 row15\" >15</th>\n",
       "      <td id=\"T_c6362_row15_col0\" class=\"data row15 col0\" >Encoding method</td>\n",
       "      <td id=\"T_c6362_row15_col1\" class=\"data row15 col1\" >None</td>\n",
       "    </tr>\n",
       "    <tr>\n",
       "      <th id=\"T_c6362_level0_row16\" class=\"row_heading level0 row16\" >16</th>\n",
       "      <td id=\"T_c6362_row16_col0\" class=\"data row16 col0\" >Fold Generator</td>\n",
       "      <td id=\"T_c6362_row16_col1\" class=\"data row16 col1\" >StratifiedKFold</td>\n",
       "    </tr>\n",
       "    <tr>\n",
       "      <th id=\"T_c6362_level0_row17\" class=\"row_heading level0 row17\" >17</th>\n",
       "      <td id=\"T_c6362_row17_col0\" class=\"data row17 col0\" >Fold Number</td>\n",
       "      <td id=\"T_c6362_row17_col1\" class=\"data row17 col1\" >5</td>\n",
       "    </tr>\n",
       "    <tr>\n",
       "      <th id=\"T_c6362_level0_row18\" class=\"row_heading level0 row18\" >18</th>\n",
       "      <td id=\"T_c6362_row18_col0\" class=\"data row18 col0\" >CPU Jobs</td>\n",
       "      <td id=\"T_c6362_row18_col1\" class=\"data row18 col1\" >-1</td>\n",
       "    </tr>\n",
       "    <tr>\n",
       "      <th id=\"T_c6362_level0_row19\" class=\"row_heading level0 row19\" >19</th>\n",
       "      <td id=\"T_c6362_row19_col0\" class=\"data row19 col0\" >Use GPU</td>\n",
       "      <td id=\"T_c6362_row19_col1\" class=\"data row19 col1\" >False</td>\n",
       "    </tr>\n",
       "    <tr>\n",
       "      <th id=\"T_c6362_level0_row20\" class=\"row_heading level0 row20\" >20</th>\n",
       "      <td id=\"T_c6362_row20_col0\" class=\"data row20 col0\" >Log Experiment</td>\n",
       "      <td id=\"T_c6362_row20_col1\" class=\"data row20 col1\" >False</td>\n",
       "    </tr>\n",
       "    <tr>\n",
       "      <th id=\"T_c6362_level0_row21\" class=\"row_heading level0 row21\" >21</th>\n",
       "      <td id=\"T_c6362_row21_col0\" class=\"data row21 col0\" >Experiment Name</td>\n",
       "      <td id=\"T_c6362_row21_col1\" class=\"data row21 col1\" >clf-default-name</td>\n",
       "    </tr>\n",
       "    <tr>\n",
       "      <th id=\"T_c6362_level0_row22\" class=\"row_heading level0 row22\" >22</th>\n",
       "      <td id=\"T_c6362_row22_col0\" class=\"data row22 col0\" >USI</td>\n",
       "      <td id=\"T_c6362_row22_col1\" class=\"data row22 col1\" >ea9c</td>\n",
       "    </tr>\n",
       "  </tbody>\n",
       "</table>\n"
      ],
      "text/plain": [
       "<pandas.io.formats.style.Styler at 0x722fbda42fd0>"
      ]
     },
     "metadata": {},
     "output_type": "display_data"
    }
   ],
   "source": [
    "columna_objetivo = \"BikeBuyer\"\n",
    "\n",
    "columnas_ignoradas = [\n",
    "    \"CustomerKey\",\n",
    "    \"GeographyKey\",\n",
    "    \"BirthDate\",\n",
    "    \"DateFirstPurchase\"\n",
    "]\n",
    "\n",
    "columnas_categoricas = [\n",
    "    \"NameStyle\",\n",
    "    \"MaritalStatus\",\n",
    "    \"Gender\",\n",
    "    \"SpanishEducation\",\n",
    "    \"SpanishOccupation\",\n",
    "    \"HouseOwnerFlag\",\n",
    "    \"CommuteDistance\",\n",
    "    \"Region\"\n",
    "]\n",
    "\n",
    "columnas_numericas = [\n",
    "    \"YearlyIncome\",\n",
    "    \"TotalChildren\",\n",
    "    \"NumberChildrenAtHome\",\n",
    "    \"NumberCarsOwned\",\n",
    "    \"Edad\"\n",
    "]\n",
    "\n",
    "configuracion = setup(\n",
    "    data=df_final,\n",
    "    target=columna_objetivo,\n",
    "    fold_strategy=\"stratifiedkfold\",\n",
    "    fold=5,\n",
    "    session_id=42,\n",
    "    categorical_features=columnas_categoricas,\n",
    "    numeric_features=columnas_numericas,\n",
    "    ignore_features=columnas_ignoradas,\n",
    "    imputation_type=\"simple\",\n",
    "    numeric_imputation=\"median\",\n",
    "    categorical_imputation=\"constant\",\n",
    "    data_split_shuffle=True,\n",
    "    data_split_stratify=True,\n",
    "    fix_imbalance=False\n",
    ")"
   ]
  },
  {
   "cell_type": "code",
   "execution_count": 19,
   "id": "4609dbd0",
   "metadata": {},
   "outputs": [
    {
     "data": {
      "text/html": [],
      "text/plain": [
       "<IPython.core.display.HTML object>"
      ]
     },
     "metadata": {},
     "output_type": "display_data"
    },
    {
     "data": {
      "text/html": [
       "<style type=\"text/css\">\n",
       "#T_2e4f7_row5_col0, #T_2e4f7_row5_col1, #T_2e4f7_row5_col2, #T_2e4f7_row5_col3, #T_2e4f7_row5_col4, #T_2e4f7_row5_col5, #T_2e4f7_row5_col6 {\n",
       "  background: yellow;\n",
       "}\n",
       "</style>\n",
       "<table id=\"T_2e4f7\">\n",
       "  <thead>\n",
       "    <tr>\n",
       "      <th class=\"blank level0\" >&nbsp;</th>\n",
       "      <th id=\"T_2e4f7_level0_col0\" class=\"col_heading level0 col0\" >Accuracy</th>\n",
       "      <th id=\"T_2e4f7_level0_col1\" class=\"col_heading level0 col1\" >AUC</th>\n",
       "      <th id=\"T_2e4f7_level0_col2\" class=\"col_heading level0 col2\" >Recall</th>\n",
       "      <th id=\"T_2e4f7_level0_col3\" class=\"col_heading level0 col3\" >Prec.</th>\n",
       "      <th id=\"T_2e4f7_level0_col4\" class=\"col_heading level0 col4\" >F1</th>\n",
       "      <th id=\"T_2e4f7_level0_col5\" class=\"col_heading level0 col5\" >Kappa</th>\n",
       "      <th id=\"T_2e4f7_level0_col6\" class=\"col_heading level0 col6\" >MCC</th>\n",
       "    </tr>\n",
       "    <tr>\n",
       "      <th class=\"index_name level0\" >Fold</th>\n",
       "      <th class=\"blank col0\" >&nbsp;</th>\n",
       "      <th class=\"blank col1\" >&nbsp;</th>\n",
       "      <th class=\"blank col2\" >&nbsp;</th>\n",
       "      <th class=\"blank col3\" >&nbsp;</th>\n",
       "      <th class=\"blank col4\" >&nbsp;</th>\n",
       "      <th class=\"blank col5\" >&nbsp;</th>\n",
       "      <th class=\"blank col6\" >&nbsp;</th>\n",
       "    </tr>\n",
       "  </thead>\n",
       "  <tbody>\n",
       "    <tr>\n",
       "      <th id=\"T_2e4f7_level0_row0\" class=\"row_heading level0 row0\" >0</th>\n",
       "      <td id=\"T_2e4f7_row0_col0\" class=\"data row0 col0\" >0.6389</td>\n",
       "      <td id=\"T_2e4f7_row0_col1\" class=\"data row0 col1\" >0.6838</td>\n",
       "      <td id=\"T_2e4f7_row0_col2\" class=\"data row0 col2\" >0.6366</td>\n",
       "      <td id=\"T_2e4f7_row0_col3\" class=\"data row0 col3\" >0.6320</td>\n",
       "      <td id=\"T_2e4f7_row0_col4\" class=\"data row0 col4\" >0.6343</td>\n",
       "      <td id=\"T_2e4f7_row0_col5\" class=\"data row0 col5\" >0.2777</td>\n",
       "      <td id=\"T_2e4f7_row0_col6\" class=\"data row0 col6\" >0.2777</td>\n",
       "    </tr>\n",
       "    <tr>\n",
       "      <th id=\"T_2e4f7_level0_row1\" class=\"row_heading level0 row1\" >1</th>\n",
       "      <td id=\"T_2e4f7_row1_col0\" class=\"data row1 col0\" >0.6507</td>\n",
       "      <td id=\"T_2e4f7_row1_col1\" class=\"data row1 col1\" >0.6957</td>\n",
       "      <td id=\"T_2e4f7_row1_col2\" class=\"data row1 col2\" >0.6616</td>\n",
       "      <td id=\"T_2e4f7_row1_col3\" class=\"data row1 col3\" >0.6406</td>\n",
       "      <td id=\"T_2e4f7_row1_col4\" class=\"data row1 col4\" >0.6510</td>\n",
       "      <td id=\"T_2e4f7_row1_col5\" class=\"data row1 col5\" >0.3016</td>\n",
       "      <td id=\"T_2e4f7_row1_col6\" class=\"data row1 col6\" >0.3017</td>\n",
       "    </tr>\n",
       "    <tr>\n",
       "      <th id=\"T_2e4f7_level0_row2\" class=\"row_heading level0 row2\" >2</th>\n",
       "      <td id=\"T_2e4f7_row2_col0\" class=\"data row2 col0\" >0.6667</td>\n",
       "      <td id=\"T_2e4f7_row2_col1\" class=\"data row2 col1\" >0.7122</td>\n",
       "      <td id=\"T_2e4f7_row2_col2\" class=\"data row2 col2\" >0.6725</td>\n",
       "      <td id=\"T_2e4f7_row2_col3\" class=\"data row2 col3\" >0.6578</td>\n",
       "      <td id=\"T_2e4f7_row2_col4\" class=\"data row2 col4\" >0.6651</td>\n",
       "      <td id=\"T_2e4f7_row2_col5\" class=\"data row2 col5\" >0.3334</td>\n",
       "      <td id=\"T_2e4f7_row2_col6\" class=\"data row2 col6\" >0.3335</td>\n",
       "    </tr>\n",
       "    <tr>\n",
       "      <th id=\"T_2e4f7_level0_row3\" class=\"row_heading level0 row3\" >3</th>\n",
       "      <td id=\"T_2e4f7_row3_col0\" class=\"data row3 col0\" >0.6490</td>\n",
       "      <td id=\"T_2e4f7_row3_col1\" class=\"data row3 col1\" >0.6987</td>\n",
       "      <td id=\"T_2e4f7_row3_col2\" class=\"data row3 col2\" >0.6637</td>\n",
       "      <td id=\"T_2e4f7_row3_col3\" class=\"data row3 col3\" >0.6378</td>\n",
       "      <td id=\"T_2e4f7_row3_col4\" class=\"data row3 col4\" >0.6505</td>\n",
       "      <td id=\"T_2e4f7_row3_col5\" class=\"data row3 col5\" >0.2982</td>\n",
       "      <td id=\"T_2e4f7_row3_col6\" class=\"data row3 col6\" >0.2985</td>\n",
       "    </tr>\n",
       "    <tr>\n",
       "      <th id=\"T_2e4f7_level0_row4\" class=\"row_heading level0 row4\" >4</th>\n",
       "      <td id=\"T_2e4f7_row4_col0\" class=\"data row4 col0\" >0.6392</td>\n",
       "      <td id=\"T_2e4f7_row4_col1\" class=\"data row4 col1\" >0.6958</td>\n",
       "      <td id=\"T_2e4f7_row4_col2\" class=\"data row4 col2\" >0.6486</td>\n",
       "      <td id=\"T_2e4f7_row4_col3\" class=\"data row4 col3\" >0.6295</td>\n",
       "      <td id=\"T_2e4f7_row4_col4\" class=\"data row4 col4\" >0.6389</td>\n",
       "      <td id=\"T_2e4f7_row4_col5\" class=\"data row4 col5\" >0.2785</td>\n",
       "      <td id=\"T_2e4f7_row4_col6\" class=\"data row4 col6\" >0.2786</td>\n",
       "    </tr>\n",
       "    <tr>\n",
       "      <th id=\"T_2e4f7_level0_row5\" class=\"row_heading level0 row5\" >Mean</th>\n",
       "      <td id=\"T_2e4f7_row5_col0\" class=\"data row5 col0\" >0.6489</td>\n",
       "      <td id=\"T_2e4f7_row5_col1\" class=\"data row5 col1\" >0.6972</td>\n",
       "      <td id=\"T_2e4f7_row5_col2\" class=\"data row5 col2\" >0.6566</td>\n",
       "      <td id=\"T_2e4f7_row5_col3\" class=\"data row5 col3\" >0.6395</td>\n",
       "      <td id=\"T_2e4f7_row5_col4\" class=\"data row5 col4\" >0.6479</td>\n",
       "      <td id=\"T_2e4f7_row5_col5\" class=\"data row5 col5\" >0.2979</td>\n",
       "      <td id=\"T_2e4f7_row5_col6\" class=\"data row5 col6\" >0.2980</td>\n",
       "    </tr>\n",
       "    <tr>\n",
       "      <th id=\"T_2e4f7_level0_row6\" class=\"row_heading level0 row6\" >Std</th>\n",
       "      <td id=\"T_2e4f7_row6_col0\" class=\"data row6 col0\" >0.0101</td>\n",
       "      <td id=\"T_2e4f7_row6_col1\" class=\"data row6 col1\" >0.0091</td>\n",
       "      <td id=\"T_2e4f7_row6_col2\" class=\"data row6 col2\" >0.0126</td>\n",
       "      <td id=\"T_2e4f7_row6_col3\" class=\"data row6 col3\" >0.0100</td>\n",
       "      <td id=\"T_2e4f7_row6_col4\" class=\"data row6 col4\" >0.0108</td>\n",
       "      <td id=\"T_2e4f7_row6_col5\" class=\"data row6 col5\" >0.0203</td>\n",
       "      <td id=\"T_2e4f7_row6_col6\" class=\"data row6 col6\" >0.0203</td>\n",
       "    </tr>\n",
       "  </tbody>\n",
       "</table>\n"
      ],
      "text/plain": [
       "<pandas.io.formats.style.Styler at 0x722faf799e10>"
      ]
     },
     "metadata": {},
     "output_type": "display_data"
    },
    {
     "data": {
      "text/html": [],
      "text/plain": [
       "<IPython.core.display.HTML object>"
      ]
     },
     "metadata": {},
     "output_type": "display_data"
    },
    {
     "data": {
      "text/html": [],
      "text/plain": [
       "<IPython.core.display.HTML object>"
      ]
     },
     "metadata": {},
     "output_type": "display_data"
    },
    {
     "data": {
      "text/html": [
       "<style type=\"text/css\">\n",
       "#T_87012_row5_col0, #T_87012_row5_col1, #T_87012_row5_col2, #T_87012_row5_col3, #T_87012_row5_col4, #T_87012_row5_col5, #T_87012_row5_col6 {\n",
       "  background: yellow;\n",
       "}\n",
       "</style>\n",
       "<table id=\"T_87012\">\n",
       "  <thead>\n",
       "    <tr>\n",
       "      <th class=\"blank level0\" >&nbsp;</th>\n",
       "      <th id=\"T_87012_level0_col0\" class=\"col_heading level0 col0\" >Accuracy</th>\n",
       "      <th id=\"T_87012_level0_col1\" class=\"col_heading level0 col1\" >AUC</th>\n",
       "      <th id=\"T_87012_level0_col2\" class=\"col_heading level0 col2\" >Recall</th>\n",
       "      <th id=\"T_87012_level0_col3\" class=\"col_heading level0 col3\" >Prec.</th>\n",
       "      <th id=\"T_87012_level0_col4\" class=\"col_heading level0 col4\" >F1</th>\n",
       "      <th id=\"T_87012_level0_col5\" class=\"col_heading level0 col5\" >Kappa</th>\n",
       "      <th id=\"T_87012_level0_col6\" class=\"col_heading level0 col6\" >MCC</th>\n",
       "    </tr>\n",
       "    <tr>\n",
       "      <th class=\"index_name level0\" >Fold</th>\n",
       "      <th class=\"blank col0\" >&nbsp;</th>\n",
       "      <th class=\"blank col1\" >&nbsp;</th>\n",
       "      <th class=\"blank col2\" >&nbsp;</th>\n",
       "      <th class=\"blank col3\" >&nbsp;</th>\n",
       "      <th class=\"blank col4\" >&nbsp;</th>\n",
       "      <th class=\"blank col5\" >&nbsp;</th>\n",
       "      <th class=\"blank col6\" >&nbsp;</th>\n",
       "    </tr>\n",
       "  </thead>\n",
       "  <tbody>\n",
       "    <tr>\n",
       "      <th id=\"T_87012_level0_row0\" class=\"row_heading level0 row0\" >0</th>\n",
       "      <td id=\"T_87012_row0_col0\" class=\"data row0 col0\" >0.7784</td>\n",
       "      <td id=\"T_87012_row0_col1\" class=\"data row0 col1\" >0.8495</td>\n",
       "      <td id=\"T_87012_row0_col2\" class=\"data row0 col2\" >0.7796</td>\n",
       "      <td id=\"T_87012_row0_col3\" class=\"data row0 col3\" >0.7722</td>\n",
       "      <td id=\"T_87012_row0_col4\" class=\"data row0 col4\" >0.7758</td>\n",
       "      <td id=\"T_87012_row0_col5\" class=\"data row0 col5\" >0.5567</td>\n",
       "      <td id=\"T_87012_row0_col6\" class=\"data row0 col6\" >0.5568</td>\n",
       "    </tr>\n",
       "    <tr>\n",
       "      <th id=\"T_87012_level0_row1\" class=\"row_heading level0 row1\" >1</th>\n",
       "      <td id=\"T_87012_row1_col0\" class=\"data row1 col0\" >0.7804</td>\n",
       "      <td id=\"T_87012_row1_col1\" class=\"data row1 col1\" >0.8561</td>\n",
       "      <td id=\"T_87012_row1_col2\" class=\"data row1 col2\" >0.7733</td>\n",
       "      <td id=\"T_87012_row1_col3\" class=\"data row1 col3\" >0.7789</td>\n",
       "      <td id=\"T_87012_row1_col4\" class=\"data row1 col4\" >0.7761</td>\n",
       "      <td id=\"T_87012_row1_col5\" class=\"data row1 col5\" >0.5606</td>\n",
       "      <td id=\"T_87012_row1_col6\" class=\"data row1 col6\" >0.5606</td>\n",
       "    </tr>\n",
       "    <tr>\n",
       "      <th id=\"T_87012_level0_row2\" class=\"row_heading level0 row2\" >2</th>\n",
       "      <td id=\"T_87012_row2_col0\" class=\"data row2 col0\" >0.7795</td>\n",
       "      <td id=\"T_87012_row2_col1\" class=\"data row2 col1\" >0.8525</td>\n",
       "      <td id=\"T_87012_row2_col2\" class=\"data row2 col2\" >0.7652</td>\n",
       "      <td id=\"T_87012_row2_col3\" class=\"data row2 col3\" >0.7820</td>\n",
       "      <td id=\"T_87012_row2_col4\" class=\"data row2 col4\" >0.7735</td>\n",
       "      <td id=\"T_87012_row2_col5\" class=\"data row2 col5\" >0.5587</td>\n",
       "      <td id=\"T_87012_row2_col6\" class=\"data row2 col6\" >0.5588</td>\n",
       "    </tr>\n",
       "    <tr>\n",
       "      <th id=\"T_87012_level0_row3\" class=\"row_heading level0 row3\" >3</th>\n",
       "      <td id=\"T_87012_row3_col0\" class=\"data row3 col0\" >0.7917</td>\n",
       "      <td id=\"T_87012_row3_col1\" class=\"data row3 col1\" >0.8573</td>\n",
       "      <td id=\"T_87012_row3_col2\" class=\"data row3 col2\" >0.7875</td>\n",
       "      <td id=\"T_87012_row3_col3\" class=\"data row3 col3\" >0.7888</td>\n",
       "      <td id=\"T_87012_row3_col4\" class=\"data row3 col4\" >0.7882</td>\n",
       "      <td id=\"T_87012_row3_col5\" class=\"data row3 col5\" >0.5832</td>\n",
       "      <td id=\"T_87012_row3_col6\" class=\"data row3 col6\" >0.5832</td>\n",
       "    </tr>\n",
       "    <tr>\n",
       "      <th id=\"T_87012_level0_row4\" class=\"row_heading level0 row4\" >4</th>\n",
       "      <td id=\"T_87012_row4_col0\" class=\"data row4 col0\" >0.7893</td>\n",
       "      <td id=\"T_87012_row4_col1\" class=\"data row4 col1\" >0.8545</td>\n",
       "      <td id=\"T_87012_row4_col2\" class=\"data row4 col2\" >0.7700</td>\n",
       "      <td id=\"T_87012_row4_col3\" class=\"data row4 col3\" >0.7954</td>\n",
       "      <td id=\"T_87012_row4_col4\" class=\"data row4 col4\" >0.7825</td>\n",
       "      <td id=\"T_87012_row4_col5\" class=\"data row4 col5\" >0.5783</td>\n",
       "      <td id=\"T_87012_row4_col6\" class=\"data row4 col6\" >0.5786</td>\n",
       "    </tr>\n",
       "    <tr>\n",
       "      <th id=\"T_87012_level0_row5\" class=\"row_heading level0 row5\" >Mean</th>\n",
       "      <td id=\"T_87012_row5_col0\" class=\"data row5 col0\" >0.7838</td>\n",
       "      <td id=\"T_87012_row5_col1\" class=\"data row5 col1\" >0.8540</td>\n",
       "      <td id=\"T_87012_row5_col2\" class=\"data row5 col2\" >0.7751</td>\n",
       "      <td id=\"T_87012_row5_col3\" class=\"data row5 col3\" >0.7835</td>\n",
       "      <td id=\"T_87012_row5_col4\" class=\"data row5 col4\" >0.7792</td>\n",
       "      <td id=\"T_87012_row5_col5\" class=\"data row5 col5\" >0.5675</td>\n",
       "      <td id=\"T_87012_row5_col6\" class=\"data row5 col6\" >0.5676</td>\n",
       "    </tr>\n",
       "    <tr>\n",
       "      <th id=\"T_87012_level0_row6\" class=\"row_heading level0 row6\" >Std</th>\n",
       "      <td id=\"T_87012_row6_col0\" class=\"data row6 col0\" >0.0055</td>\n",
       "      <td id=\"T_87012_row6_col1\" class=\"data row6 col1\" >0.0028</td>\n",
       "      <td id=\"T_87012_row6_col2\" class=\"data row6 col2\" >0.0078</td>\n",
       "      <td id=\"T_87012_row6_col3\" class=\"data row6 col3\" >0.0080</td>\n",
       "      <td id=\"T_87012_row6_col4\" class=\"data row6 col4\" >0.0054</td>\n",
       "      <td id=\"T_87012_row6_col5\" class=\"data row6 col5\" >0.0110</td>\n",
       "      <td id=\"T_87012_row6_col6\" class=\"data row6 col6\" >0.0110</td>\n",
       "    </tr>\n",
       "  </tbody>\n",
       "</table>\n"
      ],
      "text/plain": [
       "<pandas.io.formats.style.Styler at 0x722fbda32b90>"
      ]
     },
     "metadata": {},
     "output_type": "display_data"
    },
    {
     "data": {
      "text/html": [],
      "text/plain": [
       "<IPython.core.display.HTML object>"
      ]
     },
     "metadata": {},
     "output_type": "display_data"
    },
    {
     "data": {
      "text/html": [],
      "text/plain": [
       "<IPython.core.display.HTML object>"
      ]
     },
     "metadata": {},
     "output_type": "display_data"
    },
    {
     "data": {
      "text/html": [
       "<style type=\"text/css\">\n",
       "#T_b6c8e_row5_col0, #T_b6c8e_row5_col1, #T_b6c8e_row5_col2, #T_b6c8e_row5_col3, #T_b6c8e_row5_col4, #T_b6c8e_row5_col5, #T_b6c8e_row5_col6 {\n",
       "  background: yellow;\n",
       "}\n",
       "</style>\n",
       "<table id=\"T_b6c8e\">\n",
       "  <thead>\n",
       "    <tr>\n",
       "      <th class=\"blank level0\" >&nbsp;</th>\n",
       "      <th id=\"T_b6c8e_level0_col0\" class=\"col_heading level0 col0\" >Accuracy</th>\n",
       "      <th id=\"T_b6c8e_level0_col1\" class=\"col_heading level0 col1\" >AUC</th>\n",
       "      <th id=\"T_b6c8e_level0_col2\" class=\"col_heading level0 col2\" >Recall</th>\n",
       "      <th id=\"T_b6c8e_level0_col3\" class=\"col_heading level0 col3\" >Prec.</th>\n",
       "      <th id=\"T_b6c8e_level0_col4\" class=\"col_heading level0 col4\" >F1</th>\n",
       "      <th id=\"T_b6c8e_level0_col5\" class=\"col_heading level0 col5\" >Kappa</th>\n",
       "      <th id=\"T_b6c8e_level0_col6\" class=\"col_heading level0 col6\" >MCC</th>\n",
       "    </tr>\n",
       "    <tr>\n",
       "      <th class=\"index_name level0\" >Fold</th>\n",
       "      <th class=\"blank col0\" >&nbsp;</th>\n",
       "      <th class=\"blank col1\" >&nbsp;</th>\n",
       "      <th class=\"blank col2\" >&nbsp;</th>\n",
       "      <th class=\"blank col3\" >&nbsp;</th>\n",
       "      <th class=\"blank col4\" >&nbsp;</th>\n",
       "      <th class=\"blank col5\" >&nbsp;</th>\n",
       "      <th class=\"blank col6\" >&nbsp;</th>\n",
       "    </tr>\n",
       "  </thead>\n",
       "  <tbody>\n",
       "    <tr>\n",
       "      <th id=\"T_b6c8e_level0_row0\" class=\"row_heading level0 row0\" >0</th>\n",
       "      <td id=\"T_b6c8e_row0_col0\" class=\"data row0 col0\" >0.7147</td>\n",
       "      <td id=\"T_b6c8e_row0_col1\" class=\"data row0 col1\" >0.7930</td>\n",
       "      <td id=\"T_b6c8e_row0_col2\" class=\"data row0 col2\" >0.7196</td>\n",
       "      <td id=\"T_b6c8e_row0_col3\" class=\"data row0 col3\" >0.7061</td>\n",
       "      <td id=\"T_b6c8e_row0_col4\" class=\"data row0 col4\" >0.7128</td>\n",
       "      <td id=\"T_b6c8e_row0_col5\" class=\"data row0 col5\" >0.4295</td>\n",
       "      <td id=\"T_b6c8e_row0_col6\" class=\"data row0 col6\" >0.4296</td>\n",
       "    </tr>\n",
       "    <tr>\n",
       "      <th id=\"T_b6c8e_level0_row1\" class=\"row_heading level0 row1\" >1</th>\n",
       "      <td id=\"T_b6c8e_row1_col0\" class=\"data row1 col0\" >0.7281</td>\n",
       "      <td id=\"T_b6c8e_row1_col1\" class=\"data row1 col1\" >0.7989</td>\n",
       "      <td id=\"T_b6c8e_row1_col2\" class=\"data row1 col2\" >0.7486</td>\n",
       "      <td id=\"T_b6c8e_row1_col3\" class=\"data row1 col3\" >0.7133</td>\n",
       "      <td id=\"T_b6c8e_row1_col4\" class=\"data row1 col4\" >0.7305</td>\n",
       "      <td id=\"T_b6c8e_row1_col5\" class=\"data row1 col5\" >0.4565</td>\n",
       "      <td id=\"T_b6c8e_row1_col6\" class=\"data row1 col6\" >0.4570</td>\n",
       "    </tr>\n",
       "    <tr>\n",
       "      <th id=\"T_b6c8e_level0_row2\" class=\"row_heading level0 row2\" >2</th>\n",
       "      <td id=\"T_b6c8e_row2_col0\" class=\"data row2 col0\" >0.7288</td>\n",
       "      <td id=\"T_b6c8e_row2_col1\" class=\"data row2 col1\" >0.8048</td>\n",
       "      <td id=\"T_b6c8e_row2_col2\" class=\"data row2 col2\" >0.7452</td>\n",
       "      <td id=\"T_b6c8e_row2_col3\" class=\"data row2 col3\" >0.7155</td>\n",
       "      <td id=\"T_b6c8e_row2_col4\" class=\"data row2 col4\" >0.7300</td>\n",
       "      <td id=\"T_b6c8e_row2_col5\" class=\"data row2 col5\" >0.4578</td>\n",
       "      <td id=\"T_b6c8e_row2_col6\" class=\"data row2 col6\" >0.4581</td>\n",
       "    </tr>\n",
       "    <tr>\n",
       "      <th id=\"T_b6c8e_level0_row3\" class=\"row_heading level0 row3\" >3</th>\n",
       "      <td id=\"T_b6c8e_row3_col0\" class=\"data row3 col0\" >0.7264</td>\n",
       "      <td id=\"T_b6c8e_row3_col1\" class=\"data row3 col1\" >0.7985</td>\n",
       "      <td id=\"T_b6c8e_row3_col2\" class=\"data row3 col2\" >0.7404</td>\n",
       "      <td id=\"T_b6c8e_row3_col3\" class=\"data row3 col3\" >0.7142</td>\n",
       "      <td id=\"T_b6c8e_row3_col4\" class=\"data row3 col4\" >0.7271</td>\n",
       "      <td id=\"T_b6c8e_row3_col5\" class=\"data row3 col5\" >0.4530</td>\n",
       "      <td id=\"T_b6c8e_row3_col6\" class=\"data row3 col6\" >0.4533</td>\n",
       "    </tr>\n",
       "    <tr>\n",
       "      <th id=\"T_b6c8e_level0_row4\" class=\"row_heading level0 row4\" >4</th>\n",
       "      <td id=\"T_b6c8e_row4_col0\" class=\"data row4 col0\" >0.7197</td>\n",
       "      <td id=\"T_b6c8e_row4_col1\" class=\"data row4 col1\" >0.8007</td>\n",
       "      <td id=\"T_b6c8e_row4_col2\" class=\"data row4 col2\" >0.7404</td>\n",
       "      <td id=\"T_b6c8e_row4_col3\" class=\"data row4 col3\" >0.7049</td>\n",
       "      <td id=\"T_b6c8e_row4_col4\" class=\"data row4 col4\" >0.7222</td>\n",
       "      <td id=\"T_b6c8e_row4_col5\" class=\"data row4 col5\" >0.4398</td>\n",
       "      <td id=\"T_b6c8e_row4_col6\" class=\"data row4 col6\" >0.4403</td>\n",
       "    </tr>\n",
       "    <tr>\n",
       "      <th id=\"T_b6c8e_level0_row5\" class=\"row_heading level0 row5\" >Mean</th>\n",
       "      <td id=\"T_b6c8e_row5_col0\" class=\"data row5 col0\" >0.7236</td>\n",
       "      <td id=\"T_b6c8e_row5_col1\" class=\"data row5 col1\" >0.7992</td>\n",
       "      <td id=\"T_b6c8e_row5_col2\" class=\"data row5 col2\" >0.7389</td>\n",
       "      <td id=\"T_b6c8e_row5_col3\" class=\"data row5 col3\" >0.7108</td>\n",
       "      <td id=\"T_b6c8e_row5_col4\" class=\"data row5 col4\" >0.7245</td>\n",
       "      <td id=\"T_b6c8e_row5_col5\" class=\"data row5 col5\" >0.4473</td>\n",
       "      <td id=\"T_b6c8e_row5_col6\" class=\"data row5 col6\" >0.4477</td>\n",
       "    </tr>\n",
       "    <tr>\n",
       "      <th id=\"T_b6c8e_level0_row6\" class=\"row_heading level0 row6\" >Std</th>\n",
       "      <td id=\"T_b6c8e_row6_col0\" class=\"data row6 col0\" >0.0054</td>\n",
       "      <td id=\"T_b6c8e_row6_col1\" class=\"data row6 col1\" >0.0038</td>\n",
       "      <td id=\"T_b6c8e_row6_col2\" class=\"data row6 col2\" >0.0101</td>\n",
       "      <td id=\"T_b6c8e_row6_col3\" class=\"data row6 col3\" >0.0044</td>\n",
       "      <td id=\"T_b6c8e_row6_col4\" class=\"data row6 col4\" >0.0066</td>\n",
       "      <td id=\"T_b6c8e_row6_col5\" class=\"data row6 col5\" >0.0110</td>\n",
       "      <td id=\"T_b6c8e_row6_col6\" class=\"data row6 col6\" >0.0110</td>\n",
       "    </tr>\n",
       "  </tbody>\n",
       "</table>\n"
      ],
      "text/plain": [
       "<pandas.io.formats.style.Styler at 0x722f92bd01d0>"
      ]
     },
     "metadata": {},
     "output_type": "display_data"
    },
    {
     "data": {
      "text/html": [],
      "text/plain": [
       "<IPython.core.display.HTML object>"
      ]
     },
     "metadata": {},
     "output_type": "display_data"
    }
   ],
   "source": [
    "modelo_regresion_logistica = create_model(\"lr\")\n",
    "resultados_regresion_logistica = pull()\n",
    "\n",
    "modelo_bosque_aleatorio = create_model(\"rf\")\n",
    "resultados_bosque_aleatorio = pull()\n",
    "\n",
    "modelo_gradient_boosting = create_model(\"gbc\")\n",
    "resultados_gradient_boosting = pull()"
   ]
  },
  {
   "cell_type": "markdown",
   "id": "59c17b6c",
   "metadata": {},
   "source": [
    "## 5. Assess (Evaluar)"
   ]
  },
  {
   "cell_type": "code",
   "execution_count": 20,
   "id": "2d3347aa",
   "metadata": {},
   "outputs": [
    {
     "data": {
      "text/html": [
       "<style type=\"text/css\">\n",
       "</style>\n",
       "<table id=\"T_73295\">\n",
       "  <thead>\n",
       "    <tr>\n",
       "      <th class=\"blank level0\" >&nbsp;</th>\n",
       "      <th id=\"T_73295_level0_col0\" class=\"col_heading level0 col0\" >Model</th>\n",
       "      <th id=\"T_73295_level0_col1\" class=\"col_heading level0 col1\" >Accuracy</th>\n",
       "      <th id=\"T_73295_level0_col2\" class=\"col_heading level0 col2\" >AUC</th>\n",
       "      <th id=\"T_73295_level0_col3\" class=\"col_heading level0 col3\" >Recall</th>\n",
       "      <th id=\"T_73295_level0_col4\" class=\"col_heading level0 col4\" >Prec.</th>\n",
       "      <th id=\"T_73295_level0_col5\" class=\"col_heading level0 col5\" >F1</th>\n",
       "      <th id=\"T_73295_level0_col6\" class=\"col_heading level0 col6\" >Kappa</th>\n",
       "      <th id=\"T_73295_level0_col7\" class=\"col_heading level0 col7\" >MCC</th>\n",
       "    </tr>\n",
       "  </thead>\n",
       "  <tbody>\n",
       "    <tr>\n",
       "      <th id=\"T_73295_level0_row0\" class=\"row_heading level0 row0\" >0</th>\n",
       "      <td id=\"T_73295_row0_col0\" class=\"data row0 col0\" >Logistic Regression</td>\n",
       "      <td id=\"T_73295_row0_col1\" class=\"data row0 col1\" >0.6475</td>\n",
       "      <td id=\"T_73295_row0_col2\" class=\"data row0 col2\" >0.6935</td>\n",
       "      <td id=\"T_73295_row0_col3\" class=\"data row0 col3\" >0.6508</td>\n",
       "      <td id=\"T_73295_row0_col4\" class=\"data row0 col4\" >0.6393</td>\n",
       "      <td id=\"T_73295_row0_col5\" class=\"data row0 col5\" >0.6450</td>\n",
       "      <td id=\"T_73295_row0_col6\" class=\"data row0 col6\" >0.2951</td>\n",
       "      <td id=\"T_73295_row0_col7\" class=\"data row0 col7\" >0.2951</td>\n",
       "    </tr>\n",
       "  </tbody>\n",
       "</table>\n"
      ],
      "text/plain": [
       "<pandas.io.formats.style.Styler at 0x722f92b02bd0>"
      ]
     },
     "metadata": {},
     "output_type": "display_data"
    },
    {
     "data": {
      "text/html": [],
      "text/plain": [
       "<IPython.core.display.HTML object>"
      ]
     },
     "metadata": {},
     "output_type": "display_data"
    },
    {
     "data": {
      "image/png": "[encoded data removed]",
      "text/plain": [
       "<Figure size 800x550 with 1 Axes>"
      ]
     },
     "metadata": {},
     "output_type": "display_data"
    },
    {
     "data": {
      "text/html": [],
      "text/plain": [
       "<IPython.core.display.HTML object>"
      ]
     },
     "metadata": {},
     "output_type": "display_data"
    },
    {
     "data": {
      "image/png": "[encoded data removed]",
      "text/plain": [
       "<Figure size 800x550 with 1 Axes>"
      ]
     },
     "metadata": {},
     "output_type": "display_data"
    }
   ],
   "source": [
    "predicciones_lr = predict_model(modelo_regresion_logistica)\n",
    "plot_model(modelo_regresion_logistica, plot=\"auc\")\n",
    "plot_model(modelo_regresion_logistica, plot=\"confusion_matrix\")"
   ]
  },
  {
   "cell_type": "code",
   "execution_count": null,
   "id": "8229d0a4",
   "metadata": {},
   "outputs": [],
   "source": []
  },
  {
   "cell_type": "code",
   "execution_count": 21,
   "id": "eeb69d59",
   "metadata": {},
   "outputs": [
    {
     "data": {
      "text/html": [
       "<style type=\"text/css\">\n",
       "</style>\n",
       "<table id=\"T_3a4b2\">\n",
       "  <thead>\n",
       "    <tr>\n",
       "      <th class=\"blank level0\" >&nbsp;</th>\n",
       "      <th id=\"T_3a4b2_level0_col0\" class=\"col_heading level0 col0\" >Model</th>\n",
       "      <th id=\"T_3a4b2_level0_col1\" class=\"col_heading level0 col1\" >Accuracy</th>\n",
       "      <th id=\"T_3a4b2_level0_col2\" class=\"col_heading level0 col2\" >AUC</th>\n",
       "      <th id=\"T_3a4b2_level0_col3\" class=\"col_heading level0 col3\" >Recall</th>\n",
       "      <th id=\"T_3a4b2_level0_col4\" class=\"col_heading level0 col4\" >Prec.</th>\n",
       "      <th id=\"T_3a4b2_level0_col5\" class=\"col_heading level0 col5\" >F1</th>\n",
       "      <th id=\"T_3a4b2_level0_col6\" class=\"col_heading level0 col6\" >Kappa</th>\n",
       "      <th id=\"T_3a4b2_level0_col7\" class=\"col_heading level0 col7\" >MCC</th>\n",
       "    </tr>\n",
       "  </thead>\n",
       "  <tbody>\n",
       "    <tr>\n",
       "      <th id=\"T_3a4b2_level0_row0\" class=\"row_heading level0 row0\" >0</th>\n",
       "      <td id=\"T_3a4b2_row0_col0\" class=\"data row0 col0\" >Random Forest Classifier</td>\n",
       "      <td id=\"T_3a4b2_row0_col1\" class=\"data row0 col1\" >0.7924</td>\n",
       "      <td id=\"T_3a4b2_row0_col2\" class=\"data row0 col2\" >0.8654</td>\n",
       "      <td id=\"T_3a4b2_row0_col3\" class=\"data row0 col3\" >0.7857</td>\n",
       "      <td id=\"T_3a4b2_row0_col4\" class=\"data row0 col4\" >0.7910</td>\n",
       "      <td id=\"T_3a4b2_row0_col5\" class=\"data row0 col5\" >0.7883</td>\n",
       "      <td id=\"T_3a4b2_row0_col6\" class=\"data row0 col6\" >0.5847</td>\n",
       "      <td id=\"T_3a4b2_row0_col7\" class=\"data row0 col7\" >0.5847</td>\n",
       "    </tr>\n",
       "  </tbody>\n",
       "</table>\n"
      ],
      "text/plain": [
       "<pandas.io.formats.style.Styler at 0x722f92bd0210>"
      ]
     },
     "metadata": {},
     "output_type": "display_data"
    },
    {
     "data": {
      "text/html": [],
      "text/plain": [
       "<IPython.core.display.HTML object>"
      ]
     },
     "metadata": {},
     "output_type": "display_data"
    },
    {
     "data": {
      "image/png": "[encoded data removed]",
      "text/plain": [
       "<Figure size 800x550 with 1 Axes>"
      ]
     },
     "metadata": {},
     "output_type": "display_data"
    },
    {
     "data": {
      "text/html": [],
      "text/plain": [
       "<IPython.core.display.HTML object>"
      ]
     },
     "metadata": {},
     "output_type": "display_data"
    },
    {
     "data": {
      "image/png": "[encoded data removed]",
      "text/plain": [
       "<Figure size 800x550 with 1 Axes>"
      ]
     },
     "metadata": {},
     "output_type": "display_data"
    }
   ],
   "source": [
    "predicciones_rf = predict_model(modelo_bosque_aleatorio)\n",
    "plot_model(modelo_bosque_aleatorio, plot=\"auc\")\n",
    "plot_model(modelo_bosque_aleatorio, plot=\"confusion_matrix\")"
   ]
  },
  {
   "cell_type": "code",
   "execution_count": 22,
   "id": "4980b88e",
   "metadata": {},
   "outputs": [
    {
     "data": {
      "text/html": [
       "<style type=\"text/css\">\n",
       "</style>\n",
       "<table id=\"T_281b4\">\n",
       "  <thead>\n",
       "    <tr>\n",
       "      <th class=\"blank level0\" >&nbsp;</th>\n",
       "      <th id=\"T_281b4_level0_col0\" class=\"col_heading level0 col0\" >Model</th>\n",
       "      <th id=\"T_281b4_level0_col1\" class=\"col_heading level0 col1\" >Accuracy</th>\n",
       "      <th id=\"T_281b4_level0_col2\" class=\"col_heading level0 col2\" >AUC</th>\n",
       "      <th id=\"T_281b4_level0_col3\" class=\"col_heading level0 col3\" >Recall</th>\n",
       "      <th id=\"T_281b4_level0_col4\" class=\"col_heading level0 col4\" >Prec.</th>\n",
       "      <th id=\"T_281b4_level0_col5\" class=\"col_heading level0 col5\" >F1</th>\n",
       "      <th id=\"T_281b4_level0_col6\" class=\"col_heading level0 col6\" >Kappa</th>\n",
       "      <th id=\"T_281b4_level0_col7\" class=\"col_heading level0 col7\" >MCC</th>\n",
       "    </tr>\n",
       "  </thead>\n",
       "  <tbody>\n",
       "    <tr>\n",
       "      <th id=\"T_281b4_level0_row0\" class=\"row_heading level0 row0\" >0</th>\n",
       "      <td id=\"T_281b4_row0_col0\" class=\"data row0 col0\" >Gradient Boosting Classifier</td>\n",
       "      <td id=\"T_281b4_row0_col1\" class=\"data row0 col1\" >0.7240</td>\n",
       "      <td id=\"T_281b4_row0_col2\" class=\"data row0 col2\" >0.7981</td>\n",
       "      <td id=\"T_281b4_row0_col3\" class=\"data row0 col3\" >0.7313</td>\n",
       "      <td id=\"T_281b4_row0_col4\" class=\"data row0 col4\" >0.7145</td>\n",
       "      <td id=\"T_281b4_row0_col5\" class=\"data row0 col5\" >0.7228</td>\n",
       "      <td id=\"T_281b4_row0_col6\" class=\"data row0 col6\" >0.4481</td>\n",
       "      <td id=\"T_281b4_row0_col7\" class=\"data row0 col7\" >0.4482</td>\n",
       "    </tr>\n",
       "  </tbody>\n",
       "</table>\n"
      ],
      "text/plain": [
       "<pandas.io.formats.style.Styler at 0x722fbdabdc10>"
      ]
     },
     "metadata": {},
     "output_type": "display_data"
    },
    {
     "data": {
      "text/html": [],
      "text/plain": [
       "<IPython.core.display.HTML object>"
      ]
     },
     "metadata": {},
     "output_type": "display_data"
    },
    {
     "data": {
      "image/png": "[encoded data removed]",
      "text/plain": [
       "<Figure size 800x550 with 1 Axes>"
      ]
     },
     "metadata": {},
     "output_type": "display_data"
    },
    {
     "data": {
      "text/html": [],
      "text/plain": [
       "<IPython.core.display.HTML object>"
      ]
     },
     "metadata": {},
     "output_type": "display_data"
    },
    {
     "data": {
      "image/png": "[encoded data removed]",
      "text/plain": [
       "<Figure size 800x550 with 1 Axes>"
      ]
     },
     "metadata": {},
     "output_type": "display_data"
    }
   ],
   "source": [
    "predicciones_gb = predict_model(modelo_gradient_boosting)\n",
    "plot_model(modelo_gradient_boosting, plot=\"auc\")\n",
    "plot_model(modelo_gradient_boosting, plot=\"confusion_matrix\")"
   ]
  },
  {
   "cell_type": "markdown",
   "id": "6a36aa4e",
   "metadata": {},
   "source": [
    "Conclusion: de acuerdo a las metricas, el mejor modelo es el Random Forest puesto que tiene mejor discriminación: AUC 0.854 (distingue mejor compradores vs. no compradores) y tiene mayor desempenho global"
   ]
  },
  {
   "cell_type": "markdown",
   "id": "9c4b9ea8",
   "metadata": {},
   "source": []
  }
 ],
 "metadata": {
  "kernelspec": {
   "display_name": "Python 3 (ipykernel)",
   "language": "python",
   "name": "python3"
  },
  "language_info": {
   "codemirror_mode": {
    "name": "ipython",
    "version": 3
   },
   "file_extension": ".py",
   "mimetype": "text/x-python",
   "name": "python",
   "nbconvert_exporter": "python",
   "pygments_lexer": "ipython3",
   "version": "3.11.13"
  }
 },
 "nbformat": 4,
 "nbformat_minor": 5
}
